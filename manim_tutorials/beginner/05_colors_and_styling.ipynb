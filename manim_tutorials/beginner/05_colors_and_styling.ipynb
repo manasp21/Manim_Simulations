{
 "cells": [
  {
   "cell_type": "markdown",
   "metadata": {},
   "source": [
    "# Colors and Styling in Manim\n",
    "\n",
    "## Learning Objectives\n",
    "By the end of this tutorial, you will be able to:\n",
    "- Apply colors to Manim objects\n",
    "- Adjust object opacity and stroke width\n",
    "- Use predefined color constants\n",
    "- Dynamically change object colors\n",
    "- Style objects for better visual appeal\n",
    "\n",
    "## Prerequisites\n",
    "Before starting this tutorial, you should:\n",
    "- Have completed the Introduction to Manim tutorial\n",
    "- Have completed the Basic Shapes tutorial\n",
    "- Have a basic understanding of Manim object creation\n",
    "\n",
    "## Introduction\n",
    "In this tutorial, we'll explore how to apply colors and styling to objects in Manim. We'll learn about color constants, opacity settings, stroke widths, and how to dynamically change the appearance of objects during animations.\n",
    "\n",
    "## Step-by-Step Instructions\n",
    "\n",
    "### 1. Importing Manim\n",
    "As always, we start by importing the Manim library:"
   ]
  },
  {
   "cell_type": "code",
   "execution_count": null,
   "metadata": {},
   "outputs": [],
   "source": [
    "from manim import *"
   ]
  },
  {
   "cell_type": "markdown",
   "metadata": {},
   "source": [
    "### 2. Creating Colored Circles\n",
    "Let's create circles with different colors:"
   ]
  },
  {
   "cell_type": "code",
   "execution_count": null,
   "metadata": {},
   "outputs": [],
   "source": [
    "class ColorsAndStyling(Scene):\n",
    "    def construct(self):\n",
    "        # Create circles with different colors\n",
    "        circle1 = Circle(radius=1, color=RED)\n",
    "        circle1.set_fill(RED, opacity=0.5)\n",
    "        \n",
    "        circle2 = Circle(radius=1, color=GREEN)\n",
    "        circle2.set_fill(GREEN, opacity=0.5)\n",
    "        \n",
    "        circle3 = Circle(radius=1, color=BLUE)\n",
    "        circle3.set_fill(BLUE, opacity=0.5)\n",
    "        \n",
    "        # Position the circles\n",
    "        circle1.shift(LEFT * 2)\n",
    "        circle3.shift(RIGHT * 2)"
   ]
  },
  {
   "cell_type": "markdown",
   "metadata": {},
   "source": [
    "### 3. Creating Styled Squares\n",
    "We can create squares with different stroke widths:"
   ]
  },
  {
   "cell_type": "code",
   "execution_count": null,
   "metadata": {},
   "outputs": [],
   "source": [
    "class ColorsAndStyling(Scene):\n",
    "    def construct(self):\n",
    "        # Create circles with different colors\n",
    "        circle1 = Circle(radius=1, color=RED)\n",
    "        circle1.set_fill(RED, opacity=0.5)\n",
    "        \n",
    "        circle2 = Circle(radius=1, color=GREEN)\n",
    "        circle2.set_fill(GREEN, opacity=0.5)\n",
    "        \n",
    "        circle3 = Circle(radius=1, color=BLUE)\n",
    "        circle3.set_fill(BLUE, opacity=0.5)\n",
    "        \n",
    "        # Position the circles\n",
    "        circle1.shift(LEFT * 2)\n",
    "        circle3.shift(RIGHT * 2)\n",
    "        \n",
    "        # Create squares with different stroke widths\n",
    "        square1 = Square(side_length=1, color=YELLOW)\n",
    "        square1.set_fill(YELLOW, opacity=0.5)\n",
    "        square1.set_stroke(width=5)\n",
    "        \n",
    "        square2 = Square(side_length=1, color=PURPLE)\n",
    "        square2.set_fill(PURPLE, opacity=0.5)\n",
    "        square2.set_stroke(width=10)"
   ]
  },
  {
   "cell_type": "markdown",
   "metadata": {},
   "source": [
    "### 4. Positioning Objects\n",
    "Let's position the squares below the circles:"
   ]
  },
  {
   "cell_type": "code",
   "execution_count": null,
   "metadata": {},
   "outputs": [],
   "source": [
    "class ColorsAndStyling(Scene):\n",
    "    def construct(self):\n",
    "        # Create circles with different colors\n",
    "        circle1 = Circle(radius=1, color=RED)\n",
    "        circle1.set_fill(RED, opacity=0.5)\n",
    "        \n",
    "        circle2 = Circle(radius=1, color=GREEN)\n",
    "        circle2.set_fill(GREEN, opacity=0.5)\n",
    "        \n",
    "        circle3 = Circle(radius=1, color=BLUE)\n",
    "        circle3.set_fill(BLUE, opacity=0.5)\n",
    "        \n",
    "        # Position the circles\n",
    "        circle1.shift(LEFT * 2)\n",
    "        circle3.shift(RIGHT * 2)\n",
    "        \n",
    "        # Create squares with different stroke widths\n",
    "        square1 = Square(side_length=1, color=YELLOW)\n",
    "        square1.set_fill(YELLOW, opacity=0.5)\n",
    "        square1.set_stroke(width=5)\n",
    "        \n",
    "        square2 = Square(side_length=1, color=PURPLE)\n",
    "        square2.set_fill(PURPLE, opacity=0.5)\n",
    "        square2.set_stroke(width=10)\n",
    "        \n",
    "        # Position the squares below the circles\n",
    "        square1.shift(DOWN * 2 + LEFT)\n",
    "        square2.shift(DOWN * 2 + RIGHT)"
   ]
  },
  {
   "cell_type": "markdown",
   "metadata": {},
   "source": [
    "### 5. Displaying All Objects\n",
    "We can display all objects with the `Create` animation:"
   ]
  },
  {
   "cell_type": "code",
   "execution_count": null,
   "metadata": {},
   "outputs": [],
   "source": [
    "class ColorsAndStyling(Scene):\n",
    "    def construct(self):\n",
    "        # Create circles with different colors\n",
    "        circle1 = Circle(radius=1, color=RED)\n",
    "        circle1.set_fill(RED, opacity=0.5)\n",
    "        \n",
    "        circle2 = Circle(radius=1, color=GREEN)\n",
    "        circle2.set_fill(GREEN, opacity=0.5)\n",
    "        \n",
    "        circle3 = Circle(radius=1, color=BLUE)\n",
    "        circle3.set_fill(BLUE, opacity=0.5)\n",
    "        \n",
    "        # Position the circles\n",
    "        circle1.shift(LEFT * 2)\n",
    "        circle3.shift(RIGHT * 2)\n",
    "        \n",
    "        # Create squares with different stroke widths\n",
    "        square1 = Square(side_length=1, color=YELLOW)\n",
    "        square1.set_fill(YELLOW, opacity=0.5)\n",
    "        square1.set_stroke(width=5)\n",
    "        \n",
    "        square2 = Square(side_length=1, color=PURPLE)\n",
    "        square2.set_fill(PURPLE, opacity=0.5)\n",
    "        square2.set_stroke(width=10)\n",
    "        \n",
    "        # Position the squares below the circles\n",
    "        square1.shift(DOWN * 2 + LEFT)\n",
    "        square2.shift(DOWN * 2 + RIGHT)\n",
    "        \n",
    "        # Display all objects\n",
    "        self.play(Create(circle1), Create(circle2), Create(circle3))\n",
    "        self.play(Create(square1), Create(square2))\n",
    "        self.wait(2)"
   ]
  },
  {
   "cell_type": "markdown",
   "metadata": {},
   "source": [
    "### 6. Dynamically Changing Colors\n",
    "We can dynamically change object colors during animations:"
   ]
  },
  {
   "cell_type": "code",
   "execution_count": null,
   "metadata": {},
   "outputs": [],
   "source": [
    "class ColorsAndStyling(Scene):\n",
    "    def construct(self):\n",
    "        # Create circles with different colors\n",
    "        circle1 = Circle(radius=1, color=RED)\n",
    "        circle1.set_fill(RED, opacity=0.5)\n",
    "        \n",
    "        circle2 = Circle(radius=1, color=GREEN)\n",
    "        circle2.set_fill(GREEN, opacity=0.5)\n",
    "        \n",
    "        circle3 = Circle(radius=1, color=BLUE)\n",
    "        circle3.set_fill(BLUE, opacity=0.5)\n",
    "        \n",
    "        # Position the circles\n",
    "        circle1.shift(LEFT * 2)\n",
    "        circle3.shift(RIGHT * 2)\n",
    "        \n",
    "        # Create squares with different stroke widths\n",
    "        square1 = Square(side_length=1, color=YELLOW)\n",
    "        square1.set_fill(YELLOW, opacity=0.5)\n",
    "        square1.set_stroke(width=5)\n",
    "        \n",
    "        square2 = Square(side_length=1, color=PURPLE)\n",
    "        square2.set_fill(PURPLE, opacity=0.5)\n",
    "        square2.set_stroke(width=10)\n",
    "        \n",
    "        # Position the squares below the circles\n",
    "        square1.shift(DOWN * 2 + LEFT)\n",
    "        square2.shift(DOWN * 2 + RIGHT)\n",
    "        \n",
    "        # Display all objects\n",
    "        self.play(Create(circle1), Create(circle2), Create(circle3))\n",
    "        self.play(Create(square1), Create(square2))\n",
    "        self.wait(2)\n",
    "        \n",
    "        # Change colors\n",
    "        self.play(\n",
    "            circle1.animate.set_fill(ORANGE),\n",
    "            circle2.animate.set_fill(PINK),\n",
    "            circle3.animate.set_fill(WHITE)\n",
    "        )\n",
    "        self.wait(2)"
   ]
  },
  {
   "cell_type": "markdown",
   "metadata": {},
   "source": [
    "Let's render this scene to see colors and styling in action:"
   ]
  },
  {
   "cell_type": "code",
   "execution_count": null,
   "metadata": {},
   "outputs": [],
   "source": [
    "%%manim -pql ColorsAndStyling\n",
    "\n",
    "from manim import *\n",
    "\n",
    "class ColorsAndStyling(Scene):\n",
    "    def construct(self):\n",
    "        # Create circles with different colors\n",
    "        circle1 = Circle(radius=1, color=RED)\n",
    "        circle1.set_fill(RED, opacity=0.5)\n",
    "        \n",
    "        circle2 = Circle(radius=1, color=GREEN)\n",
    "        circle2.set_fill(GREEN, opacity=0.5)\n",
    "        \n",
    "        circle3 = Circle(radius=1, color=BLUE)\n",
    "        circle3.set_fill(BLUE, opacity=0.5)\n",
    "        \n",
    "        # Position the circles\n",
    "        circle1.shift(LEFT * 2)\n",
    "        circle3.shift(RIGHT * 2)\n",
    "        \n",
    "        # Create squares with different stroke widths\n",
    "        square1 = Square(side_length=1, color=YELLOW)\n",
    "        square1.set_fill(YELLOW, opacity=0.5)\n",
    "        square1.set_stroke(width=5)\n",
    "        \n",
    "        square2 = Square(side_length=1, color=PURPLE)\n",
    "        square2.set_fill(PURPLE, opacity=0.5)\n",
    "        square2.set_stroke(width=10)\n",
    "        \n",
    "        # Position the squares below the circles\n",
    "        square1.shift(DOWN * 2 + LEFT)\n",
    "        square2.shift(DOWN * 2 + RIGHT)\n",
    "        \n",
    "        # Display all objects\n",
    "        self.play(Create(circle1), Create(circle2), Create(circle3))\n",
    "        self.play(Create(square1), Create(square2))\n",
    "        self.wait(2)\n",
    "        \n",
    "        # Change colors\n",
    "        self.play(\n",
    "            circle1.animate.set_fill(ORANGE),\n",
    "            circle2.animate.set_fill(PINK),\n",
    "            circle3.animate.set_fill(WHITE)\n",
    "        )\n",
    "        self.wait(2)"
   ]
  },
  {
   "cell_type": "markdown",
   "metadata": {},
   "source": [
    "## Interactive Elements\n",
    "Try modifying the code above to:\n",
    "1. Change the colors of the objects\n",
    "2. Adjust the stroke widths\n",
    "3. Try different opacity values\n",
    "4. Add more objects with different styling\n",
    "\n",
    "## Coding Exercises\n",
    "\n",
    "### Exercise 1: Create a Rainbow Sequence\n",
    "Create a sequence of circles, each with a different color of the rainbow:"
   ]
  },
  {
   "cell_type": "code",
   "execution_count": null,
   "metadata": {},
   "outputs": [],
   "source": [
    "# Your solution here\n",
    "# Colors of the rainbow: RED, ORANGE, YELLOW, GREEN, BLUE, PURPLE\n",
    "rainbow_colors = [RED, ORANGE, YELLOW, GREEN, BLUE, PURPLE]"
   ]
  },
  {
   "cell_type": "markdown",
   "metadata": {},
   "source": [
    "### Exercise 2: Create a Styled Scene\n",
    "Create a scene with at least 3 objects, each with different colors, opacities, and stroke widths:"
   ]
  },
  {
   "cell_type": "code",
   "execution_count": null,
   "metadata": {},
   "outputs": [],
   "source": [
    "%%manim -pql StyledScene\n",
    "\n",
    "from manim import *\n",
    "\n",
    "class StyledScene(Scene):\n",
    "    def construct(self):\n",
    "        # Your code here\n",
    "        pass"
   ]
  },
  {
   "cell_type": "markdown",
   "metadata": {},
   "source": [
    "## Summary\n",
    "In this tutorial, we've learned:\n",
    "- How to apply colors to Manim objects\n",
    "- How to adjust object opacity and stroke width\n",
    "- How to use predefined color constants\n",
    "- How to dynamically change object colors\n",
    "- How to style objects for better visual appeal\n",
    "\n",
    "## Further Reading\n",
    "- [Manim Documentation - Color Reference](https://docs.manim.community/en/stable/reference.html#colors)\n",
    "- [Manim Community GitHub](https://github.com/ManimCommunity/manim)\n",
    "- Next tutorial: Intermediate tutorials"
   ]
  }
 ],
 "metadata": {
  "kernelspec": {
   "display_name": "Python 3",
   "language": "python",
   "name": "python3"
  },
  "language_info": {
   "name": "python",
   "version": "3.8.0"
  }
 },
 "nbformat": 4,
 "nbformat_minor": 4
}