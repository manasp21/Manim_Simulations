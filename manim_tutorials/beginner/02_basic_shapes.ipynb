{
 "cells": [
  {
   "cell_type": "markdown",
   "metadata": {},
   "source": [
    "# Basic Shapes in Manim\n",
    "\n",
    "## Learning Objectives\n",
    "By the end of this tutorial, you will be able to:\n",
    "- Create various basic geometric shapes in Manim\n",
    "- Apply colors and styling to shapes\n",
    "- Position shapes in the scene\n",
    "- Display multiple shapes simultaneously\n",
    "\n",
    "## Prerequisites\n",
    "Before starting this tutorial, you should:\n",
    "- Have completed the Introduction to Manim tutorial\n",
    "- Understand basic Manim scene structure\n",
    "- Be familiar with the `Create` animation\n",
    "\n",
    "## Introduction\n",
    "In this tutorial, we'll explore how to create various basic geometric shapes in Manim. We'll learn about circles, squares, triangles, rectangles, and ellipses, and how to customize their appearance with colors and positioning.\n",
    "\n",
    "## Step-by-Step Instructions\n",
    "\n",
    "### 1. Importing Manim\n",
    "As always, we start by importing the Manim library:"
   ]
  },
  {
   "cell_type": "code",
   "execution_count": null,
   "metadata": {},
   "outputs": [],
   "source": [
    "from manim import *"
   ]
  },
  {
   "cell_type": "markdown",
   "metadata": {},
   "source": [
    "### 2. Creating Different Shapes\n",
    "Manim provides several built-in shape classes. Let's create instances of each:"
   ]
  },
  {
   "cell_type": "code",
   "execution_count": null,
   "metadata": {},
   "outputs": [],
   "source": [
    "class BasicShapes(Scene):\n",
    "    def construct(self):\n",
    "        # Create various shapes\n",
    "        circle = Circle()\n",
    "        square = Square()\n",
    "        triangle = Triangle()\n",
    "        rectangle = Rectangle(height=2, width=3)\n",
    "        ellipse = Ellipse()"
   ]
  },
  {
   "cell_type": "markdown",
   "metadata": {},
   "source": [
    "### 3. Applying Colors and Styling\n",
    "We can set fill colors and opacities for our shapes:"
   ]
  },
  {
   "cell_type": "code",
   "execution_count": null,
   "metadata": {},
   "outputs": [],
   "source": [
    "class BasicShapes(Scene):\n",
    "    def construct(self):\n",
    "        # Create various shapes\n",
    "        circle = Circle()\n",
    "        square = Square()\n",
    "        triangle = Triangle()\n",
    "        rectangle = Rectangle(height=2, width=3)\n",
    "        ellipse = Ellipse()\n",
    "        \n",
    "        # Set colors for each shape\n",
    "        circle.set_fill(PINK, opacity=0.5)\n",
    "        square.set_fill(BLUE, opacity=0.5)\n",
    "        triangle.set_fill(GREEN, opacity=0.5)\n",
    "        rectangle.set_fill(YELLOW, opacity=0.5)\n",
    "        ellipse.set_fill(ORANGE, opacity=0.5)"
   ]
  },
  {
   "cell_type": "markdown",
   "metadata": {},
   "source": [
    "### 4. Positioning Shapes\n",
    "We can position shapes using the `shift` method with directional constants:"
   ]
  },
  {
   "cell_type": "code",
   "execution_count": null,
   "metadata": {},
   "outputs": [],
   "source": [
    "class BasicShapes(Scene):\n",
    "    def construct(self):\n",
    "        # Create various shapes\n",
    "        circle = Circle()\n",
    "        square = Square()\n",
    "        triangle = Triangle()\n",
    "        rectangle = Rectangle(height=2, width=3)\n",
    "        ellipse = Ellipse()\n",
    "        \n",
    "        # Set colors for each shape\n",
    "        circle.set_fill(PINK, opacity=0.5)\n",
    "        square.set_fill(BLUE, opacity=0.5)\n",
    "        triangle.set_fill(GREEN, opacity=0.5)\n",
    "        rectangle.set_fill(YELLOW, opacity=0.5)\n",
    "        ellipse.set_fill(ORANGE, opacity=0.5)\n",
    "        \n",
    "        # Position the shapes\n",
    "        circle.shift(LEFT * 3)\n",
    "        square.shift(LEFT)\n",
    "        triangle.shift(RIGHT)\n",
    "        rectangle.shift(RIGHT * 3)\n",
    "        ellipse.shift(DOWN * 2)"
   ]
  },
  {
   "cell_type": "markdown",
   "metadata": {},
   "source": [
    "### 5. Adding Shapes to the Scene\n",
    "Finally, we add all shapes to the scene with the `Create` animation:"
   ]
  },
  {
   "cell_type": "code",
   "execution_count": null,
   "metadata": {},
   "outputs": [],
   "source": [
    "class BasicShapes(Scene):\n",
    "    def construct(self):\n",
    "        # Create various shapes\n",
    "        circle = Circle()\n",
    "        square = Square()\n",
    "        triangle = Triangle()\n",
    "        rectangle = Rectangle(height=2, width=3)\n",
    "        ellipse = Ellipse()\n",
    "        \n",
    "        # Set colors for each shape\n",
    "        circle.set_fill(PINK, opacity=0.5)\n",
    "        square.set_fill(BLUE, opacity=0.5)\n",
    "        triangle.set_fill(GREEN, opacity=0.5)\n",
    "        rectangle.set_fill(YELLOW, opacity=0.5)\n",
    "        ellipse.set_fill(ORANGE, opacity=0.5)\n",
    "        \n",
    "        # Position the shapes\n",
    "        circle.shift(LEFT * 3)\n",
    "        square.shift(LEFT)\n",
    "        triangle.shift(RIGHT)\n",
    "        rectangle.shift(RIGHT * 3)\n",
    "        ellipse.shift(DOWN * 2)\n",
    "        \n",
    "        # Add shapes to the scene\n",
    "        self.play(Create(circle))\n",
    "        self.play(Create(square))\n",
    "        self.play(Create(triangle))\n",
    "        self.play(Create(rectangle))\n",
    "        self.play(Create(ellipse))\n",
    "        \n",
    "        # Wait for a moment\n",
    "        self.wait(2)"
   ]
  },
  {
   "cell_type": "markdown",
   "metadata": {},
   "source": [
    "Let's render this scene to see all the shapes:"
   ]
  },
  {
   "cell_type": "code",
   "execution_count": null,
   "metadata": {},
   "outputs": [],
   "source": [
    "%%manim -pql BasicShapes\n",
    "\n",
    "from manim import *\n",
    "\n",
    "class BasicShapes(Scene):\n",
    "    def construct(self):\n",
    "        # Create various shapes\n",
    "        circle = Circle()\n",
    "        square = Square()\n",
    "        triangle = Triangle()\n",
    "        rectangle = Rectangle(height=2, width=3)\n",
    "        ellipse = Ellipse()\n",
    "        \n",
    "        # Set colors for each shape\n",
    "        circle.set_fill(PINK, opacity=0.5)\n",
    "        square.set_fill(BLUE, opacity=0.5)\n",
    "        triangle.set_fill(GREEN, opacity=0.5)\n",
    "        rectangle.set_fill(YELLOW, opacity=0.5)\n",
    "        ellipse.set_fill(ORANGE, opacity=0.5)\n",
    "        \n",
    "        # Position the shapes\n",
    "        circle.shift(LEFT * 3)\n",
    "        square.shift(LEFT)\n",
    "        triangle.shift(RIGHT)\n",
    "        rectangle.shift(RIGHT * 3)\n",
    "        ellipse.shift(DOWN * 2)\n",
    "        \n",
    "        # Add shapes to the scene\n",
    "        self.play(Create(circle))\n",
    "        self.play(Create(square))\n",
    "        self.play(Create(triangle))\n",
    "        self.play(Create(rectangle))\n",
    "        self.play(Create(ellipse))\n",
    "        \n",
    "        # Wait for a moment\n",
    "        self.wait(2)"
   ]
  },
  {
   "cell_type": "markdown",
   "metadata": {},
   "source": [
    "## Interactive Elements\n",
    "Try modifying the code above to:\n",
    "1. Change the colors of the shapes\n",
    "2. Adjust the size of the shapes using parameters\n",
    "3. Try different positioning combinations\n",
    "\n",
    "## Coding Exercises\n",
    "\n",
    "### Exercise 1: Create a Pentagon\n",
    "Create a pentagon and add it to the scene. Position it above the other shapes:"
   ]
  },
  {
   "cell_type": "code",
   "execution_count": null,
   "metadata": {},
   "outputs": [],
   "source": [
    "# Your solution here\n",
    "pentagon = RegularPolygon(n=5)\n",
    "pentagon.set_fill(PURPLE, opacity=0.5)\n",
    "pentagon.shift(UP * 2)"
   ]
  },
  {
   "cell_type": "markdown",
   "metadata": {},
   "source": [
    "### Exercise 2: Create a Custom Scene\n",
    "Create a scene with three different shapes of your choice, each with different colors and positions:"
   ]
  },
  {
   "cell_type": "code",
   "execution_count": null,
   "metadata": {},
   "outputs": [],
   "source": [
    "%%manim -pql CustomShapes\n",
    "\n",
    "from manim import *\n",
    "\n",
    "class CustomShapes(Scene):\n",
    "    def construct(self):\n",
    "        # Your code here\n",
    "        pass"
   ]
  },
  {
   "cell_type": "markdown",
   "metadata": {},
   "source": [
    "## Summary\n",
    "In this tutorial, we've learned:\n",
    "- How to create various basic geometric shapes in Manim\n",
    "- How to apply colors and styling to shapes\n",
    "- How to position shapes using the `shift` method\n",
    "- How to display multiple shapes in a single scene\n",
    "\n",
    "## Further Reading\n",
    "- [Manim Documentation - Mobject Reference](https://docs.manim.community/en/stable/reference.html#mobjects)\n",
    "- [Manim Community GitHub](https://github.com/ManimCommunity/manim)\n",
    "- Next tutorial: Simple Animations"
   ]
  }
 ],
 "metadata": {
  "kernelspec": {
   "display_name": "Python 3",
   "language": "python",
   "name": "python3"
  },
  "language_info": {
   "name": "python",
   "version": "3.8.0"
  }
 },
 "nbformat": 4,
 "nbformat_minor": 4
}