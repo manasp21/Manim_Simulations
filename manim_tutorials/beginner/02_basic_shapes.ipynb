{
 "cells": [
  {
   "cell_type": "markdown",
   "metadata": {},
   "source": [
    "# Basic Shapes in Manim\n",
    "\n",
    "## Learning Objectives\n",
    "By the end of this tutorial, you will be able to:\n",
    "- Create various basic geometric shapes in Manim\n",
    "- Apply colors and styling to shapes\n",
    "- Position shapes in the scene\n",
    "- Display multiple shapes simultaneously\n",
    "\n",
    "## Prerequisites\n",
    "Before starting this tutorial, you should:\n",
    "- Have completed the Introduction to Manim tutorial\n",
    "- Understand basic Manim scene structure\n",
    "- Be familiar with the `Create` animation\n",
    "\n",
    "## Introduction\n",
    "In this tutorial, we'll explore how to create various basic geometric shapes in Manim. We'll learn about circles, squares, triangles, rectangles, and ellipses, and how to customize their appearance with colors and positioning.\n",
    "\n",
    "## Step-by-Step Instructions\n",
    "\n",
    "### 1. Importing Manim\n",
    "As always, we start by importing the Manim library:"
   ]
  },
  {
   "cell_type": "code",
   "execution_count": 9,
   "metadata": {},
   "outputs": [],
   "source": [
    "from manim import *"
   ]
  },
  {
   "cell_type": "markdown",
   "metadata": {},
   "source": [
    "### 2. Creating Different Shapes\n",
    "Manim provides several built-in shape classes. Let's create instances of each:"
   ]
  },
  {
   "cell_type": "code",
   "execution_count": 10,
   "metadata": {},
   "outputs": [],
   "source": [
    "class BasicShapes(Scene):\n",
    "    def construct(self):\n",
    "        # Create various shapes\n",
    "        circle = Circle()\n",
    "        square = Square()\n",
    "        triangle = Triangle()\n",
    "        rectangle = Rectangle(height=2, width=3)\n",
    "        ellipse = Ellipse()"
   ]
  },
  {
   "cell_type": "markdown",
   "metadata": {},
   "source": [
    "### 3. Applying Colors and Styling\n",
    "We can set fill colors and opacities for our shapes:"
   ]
  },
  {
   "cell_type": "code",
   "execution_count": 12,
   "metadata": {},
   "outputs": [],
   "source": [
    "class BasicShapes(Scene):\n",
    "    def construct(self):\n",
    "        # Create various shapes\n",
    "        circle = Circle()\n",
    "        square = Square()\n",
    "        triangle = Triangle()\n",
    "        rectangle = Rectangle(height=2, width=3)\n",
    "        ellipse = Ellipse()\n",
    "        \n",
    "        # Set colors for each shape\n",
    "        circle.set_fill(PINK, opacity=0.5)\n",
    "        square.set_fill(BLUE, opacity=0.5)\n",
    "        triangle.set_fill(GREEN, opacity=0.5)\n",
    "        rectangle.set_fill(YELLOW, opacity=0.5)\n",
    "        ellipse.set_fill(ORANGE, opacity=0.5)"
   ]
  },
  {
   "cell_type": "markdown",
   "metadata": {},
   "source": [
    "### 4. Positioning Shapes\n",
    "We can position shapes using the `shift` method with directional constants:"
   ]
  },
  {
   "cell_type": "code",
   "execution_count": 11,
   "metadata": {},
   "outputs": [],
   "source": [
    "class BasicShapes(Scene):\n",
    "    def construct(self):\n",
    "        # Create various shapes\n",
    "        circle = Circle()\n",
    "        square = Square()\n",
    "        triangle = Triangle()\n",
    "        rectangle = Rectangle(height=2, width=3)\n",
    "        ellipse = Ellipse()\n",
    "        \n",
    "        # Set colors for each shape\n",
    "        circle.set_fill(PINK, opacity=0.5)\n",
    "        square.set_fill(BLUE, opacity=0.5)\n",
    "        triangle.set_fill(GREEN, opacity=0.5)\n",
    "        rectangle.set_fill(YELLOW, opacity=0.5)\n",
    "        ellipse.set_fill(ORANGE, opacity=0.5)\n",
    "        \n",
    "        # Position the shapes\n",
    "        circle.shift(LEFT * 3)\n",
    "        square.shift(LEFT)\n",
    "        triangle.shift(RIGHT)\n",
    "        rectangle.shift(RIGHT * 3)\n",
    "        ellipse.shift(DOWN * 2)"
   ]
  },
  {
   "cell_type": "markdown",
   "metadata": {},
   "source": [
    "### 5. Adding Shapes to the Scene\n",
    "Finally, we add all shapes to the scene with the `Create` animation:"
   ]
  },
  {
   "cell_type": "code",
   "execution_count": 5,
   "metadata": {},
   "outputs": [],
   "source": [
    "class BasicShapes(Scene):\n",
    "    def construct(self):\n",
    "        # Create various shapes\n",
    "        circle = Circle()\n",
    "        square = Square()\n",
    "        triangle = Triangle()\n",
    "        rectangle = Rectangle(height=2, width=3)\n",
    "        ellipse = Ellipse()\n",
    "        \n",
    "        # Set colors for each shape\n",
    "        circle.set_fill(PINK, opacity=0.5)\n",
    "        square.set_fill(BLUE, opacity=0.5)\n",
    "        triangle.set_fill(GREEN, opacity=0.5)\n",
    "        rectangle.set_fill(YELLOW, opacity=0.5)\n",
    "        ellipse.set_fill(ORANGE, opacity=0.5)\n",
    "        \n",
    "        # Position the shapes\n",
    "        circle.shift(LEFT * 3)\n",
    "        square.shift(LEFT)\n",
    "        triangle.shift(RIGHT)\n",
    "        rectangle.shift(RIGHT * 3)\n",
    "        ellipse.shift(DOWN * 2)\n",
    "        \n",
    "        # Add shapes to the scene\n",
    "        self.play(Create(circle))\n",
    "        self.play(Create(square))\n",
    "        self.play(Create(triangle))\n",
    "        self.play(Create(rectangle))\n",
    "        self.play(Create(ellipse))\n",
    "        \n",
    "        # Wait for a moment\n",
    "        self.wait(2)"
   ]
  },
  {
   "cell_type": "markdown",
   "metadata": {},
   "source": [
    "Let's render this scene to see all the shapes:"
   ]
  },
  {
   "cell_type": "code",
   "execution_count": 23,
   "metadata": {},
   "outputs": [
    {
     "data": {
      "text/html": [
       "<pre style=\"white-space:pre;overflow-x:auto;line-height:normal;font-family:Menlo,'DejaVu Sans Mono',consolas,'Courier New',monospace\">Manim Community <span style=\"color: #008000; text-decoration-color: #008000\">v0.19.0</span>\n",
       "\n",
       "</pre>\n"
      ],
      "text/plain": [
       "Manim Community \u001b[32mv0.\u001b[0m\u001b[32m19.0\u001b[0m\n",
       "\n"
      ]
     },
     "metadata": {},
     "output_type": "display_data"
    },
    {
     "data": {
      "text/html": [
       "<pre style=\"white-space:pre;overflow-x:auto;line-height:normal;font-family:Menlo,'DejaVu Sans Mono',consolas,'Courier New',monospace\"><span style=\"color: #7fbfbf; text-decoration-color: #7fbfbf\">[07/25/25 14:25:14] </span><span style=\"color: #008000; text-decoration-color: #008000\">INFO    </span> Animation <span style=\"color: #008000; text-decoration-color: #008000\">0</span> : Using cached data <span style=\"font-weight: bold\">(</span>hash :                           <a href=\"file:///Users/themanaspandey/Documents/GitHub/Manim_Simulations/.venv/lib/python3.13/site-packages/manim/renderer/cairo_renderer.py\" target=\"_blank\"><span style=\"color: #7f7f7f; text-decoration-color: #7f7f7f\">cairo_renderer.py</span></a><span style=\"color: #7f7f7f; text-decoration-color: #7f7f7f\">:</span><a href=\"file:///Users/themanaspandey/Documents/GitHub/Manim_Simulations/.venv/lib/python3.13/site-packages/manim/renderer/cairo_renderer.py#89\" target=\"_blank\"><span style=\"color: #7f7f7f; text-decoration-color: #7f7f7f\">89</span></a>\n",
       "<span style=\"color: #7fbfbf; text-decoration-color: #7fbfbf\">                    </span>         1185818338_3847549183_223132457<span style=\"font-weight: bold\">)</span>                                  <span style=\"color: #7f7f7f; text-decoration-color: #7f7f7f\">                    </span>\n",
       "</pre>\n"
      ],
      "text/plain": [
       "\u001b[2;36m[07/25/25 14:25:14]\u001b[0m\u001b[2;36m \u001b[0m\u001b[32mINFO    \u001b[0m Animation \u001b[32m0\u001b[0m : Using cached data \u001b[1m(\u001b[0mhash :                           \u001b]8;id=624017;file:///Users/themanaspandey/Documents/GitHub/Manim_Simulations/.venv/lib/python3.13/site-packages/manim/renderer/cairo_renderer.py\u001b\\\u001b[2mcairo_renderer.py\u001b[0m\u001b]8;;\u001b\\\u001b[2m:\u001b[0m\u001b]8;id=769289;file:///Users/themanaspandey/Documents/GitHub/Manim_Simulations/.venv/lib/python3.13/site-packages/manim/renderer/cairo_renderer.py#89\u001b\\\u001b[2m89\u001b[0m\u001b]8;;\u001b\\\n",
       "\u001b[2;36m                    \u001b[0m         1185818338_3847549183_223132457\u001b[1m)\u001b[0m                                  \u001b[2m                    \u001b[0m\n"
      ]
     },
     "metadata": {},
     "output_type": "display_data"
    },
    {
     "name": "stderr",
     "output_type": "stream",
     "text": [
      "                                                                  \r"
     ]
    },
    {
     "data": {
      "text/html": [
       "<pre style=\"white-space:pre;overflow-x:auto;line-height:normal;font-family:Menlo,'DejaVu Sans Mono',consolas,'Courier New',monospace\"><span style=\"color: #7fbfbf; text-decoration-color: #7fbfbf\">                    </span><span style=\"color: #008000; text-decoration-color: #008000\">INFO    </span> Animation <span style=\"color: #008000; text-decoration-color: #008000\">1</span> : Using cached data <span style=\"font-weight: bold\">(</span>hash :                           <a href=\"file:///Users/themanaspandey/Documents/GitHub/Manim_Simulations/.venv/lib/python3.13/site-packages/manim/renderer/cairo_renderer.py\" target=\"_blank\"><span style=\"color: #7f7f7f; text-decoration-color: #7f7f7f\">cairo_renderer.py</span></a><span style=\"color: #7f7f7f; text-decoration-color: #7f7f7f\">:</span><a href=\"file:///Users/themanaspandey/Documents/GitHub/Manim_Simulations/.venv/lib/python3.13/site-packages/manim/renderer/cairo_renderer.py#89\" target=\"_blank\"><span style=\"color: #7f7f7f; text-decoration-color: #7f7f7f\">89</span></a>\n",
       "<span style=\"color: #7fbfbf; text-decoration-color: #7fbfbf\">                    </span>         624642324_3264929833_2195578004<span style=\"font-weight: bold\">)</span>                                  <span style=\"color: #7f7f7f; text-decoration-color: #7f7f7f\">                    </span>\n",
       "</pre>\n"
      ],
      "text/plain": [
       "\u001b[2;36m                   \u001b[0m\u001b[2;36m \u001b[0m\u001b[32mINFO    \u001b[0m Animation \u001b[32m1\u001b[0m : Using cached data \u001b[1m(\u001b[0mhash :                           \u001b]8;id=269965;file:///Users/themanaspandey/Documents/GitHub/Manim_Simulations/.venv/lib/python3.13/site-packages/manim/renderer/cairo_renderer.py\u001b\\\u001b[2mcairo_renderer.py\u001b[0m\u001b]8;;\u001b\\\u001b[2m:\u001b[0m\u001b]8;id=394344;file:///Users/themanaspandey/Documents/GitHub/Manim_Simulations/.venv/lib/python3.13/site-packages/manim/renderer/cairo_renderer.py#89\u001b\\\u001b[2m89\u001b[0m\u001b]8;;\u001b\\\n",
       "\u001b[2;36m                    \u001b[0m         624642324_3264929833_2195578004\u001b[1m)\u001b[0m                                  \u001b[2m                    \u001b[0m\n"
      ]
     },
     "metadata": {},
     "output_type": "display_data"
    },
    {
     "name": "stderr",
     "output_type": "stream",
     "text": [
      "                                                                  \r"
     ]
    },
    {
     "data": {
      "text/html": [
       "<pre style=\"white-space:pre;overflow-x:auto;line-height:normal;font-family:Menlo,'DejaVu Sans Mono',consolas,'Courier New',monospace\"><span style=\"color: #7fbfbf; text-decoration-color: #7fbfbf\">                    </span><span style=\"color: #008000; text-decoration-color: #008000\">INFO    </span> Animation <span style=\"color: #008000; text-decoration-color: #008000\">2</span> : Using cached data <span style=\"font-weight: bold\">(</span>hash :                           <a href=\"file:///Users/themanaspandey/Documents/GitHub/Manim_Simulations/.venv/lib/python3.13/site-packages/manim/renderer/cairo_renderer.py\" target=\"_blank\"><span style=\"color: #7f7f7f; text-decoration-color: #7f7f7f\">cairo_renderer.py</span></a><span style=\"color: #7f7f7f; text-decoration-color: #7f7f7f\">:</span><a href=\"file:///Users/themanaspandey/Documents/GitHub/Manim_Simulations/.venv/lib/python3.13/site-packages/manim/renderer/cairo_renderer.py#89\" target=\"_blank\"><span style=\"color: #7f7f7f; text-decoration-color: #7f7f7f\">89</span></a>\n",
       "<span style=\"color: #7fbfbf; text-decoration-color: #7fbfbf\">                    </span>         624642324_1179107968_3269142257<span style=\"font-weight: bold\">)</span>                                  <span style=\"color: #7f7f7f; text-decoration-color: #7f7f7f\">                    </span>\n",
       "</pre>\n"
      ],
      "text/plain": [
       "\u001b[2;36m                   \u001b[0m\u001b[2;36m \u001b[0m\u001b[32mINFO    \u001b[0m Animation \u001b[32m2\u001b[0m : Using cached data \u001b[1m(\u001b[0mhash :                           \u001b]8;id=944481;file:///Users/themanaspandey/Documents/GitHub/Manim_Simulations/.venv/lib/python3.13/site-packages/manim/renderer/cairo_renderer.py\u001b\\\u001b[2mcairo_renderer.py\u001b[0m\u001b]8;;\u001b\\\u001b[2m:\u001b[0m\u001b]8;id=419825;file:///Users/themanaspandey/Documents/GitHub/Manim_Simulations/.venv/lib/python3.13/site-packages/manim/renderer/cairo_renderer.py#89\u001b\\\u001b[2m89\u001b[0m\u001b]8;;\u001b\\\n",
       "\u001b[2;36m                    \u001b[0m         624642324_1179107968_3269142257\u001b[1m)\u001b[0m                                  \u001b[2m                    \u001b[0m\n"
      ]
     },
     "metadata": {},
     "output_type": "display_data"
    },
    {
     "name": "stderr",
     "output_type": "stream",
     "text": [
      "                                                                    \r"
     ]
    },
    {
     "data": {
      "text/html": [
       "<pre style=\"white-space:pre;overflow-x:auto;line-height:normal;font-family:Menlo,'DejaVu Sans Mono',consolas,'Courier New',monospace\"><span style=\"color: #7fbfbf; text-decoration-color: #7fbfbf\">                    </span><span style=\"color: #008000; text-decoration-color: #008000\">INFO    </span> Animation <span style=\"color: #008000; text-decoration-color: #008000\">3</span> : Using cached data <span style=\"font-weight: bold\">(</span>hash :                           <a href=\"file:///Users/themanaspandey/Documents/GitHub/Manim_Simulations/.venv/lib/python3.13/site-packages/manim/renderer/cairo_renderer.py\" target=\"_blank\"><span style=\"color: #7f7f7f; text-decoration-color: #7f7f7f\">cairo_renderer.py</span></a><span style=\"color: #7f7f7f; text-decoration-color: #7f7f7f\">:</span><a href=\"file:///Users/themanaspandey/Documents/GitHub/Manim_Simulations/.venv/lib/python3.13/site-packages/manim/renderer/cairo_renderer.py#89\" target=\"_blank\"><span style=\"color: #7f7f7f; text-decoration-color: #7f7f7f\">89</span></a>\n",
       "<span style=\"color: #7fbfbf; text-decoration-color: #7fbfbf\">                    </span>         624642324_2472776709_1707546260<span style=\"font-weight: bold\">)</span>                                  <span style=\"color: #7f7f7f; text-decoration-color: #7f7f7f\">                    </span>\n",
       "</pre>\n"
      ],
      "text/plain": [
       "\u001b[2;36m                   \u001b[0m\u001b[2;36m \u001b[0m\u001b[32mINFO    \u001b[0m Animation \u001b[32m3\u001b[0m : Using cached data \u001b[1m(\u001b[0mhash :                           \u001b]8;id=674578;file:///Users/themanaspandey/Documents/GitHub/Manim_Simulations/.venv/lib/python3.13/site-packages/manim/renderer/cairo_renderer.py\u001b\\\u001b[2mcairo_renderer.py\u001b[0m\u001b]8;;\u001b\\\u001b[2m:\u001b[0m\u001b]8;id=954874;file:///Users/themanaspandey/Documents/GitHub/Manim_Simulations/.venv/lib/python3.13/site-packages/manim/renderer/cairo_renderer.py#89\u001b\\\u001b[2m89\u001b[0m\u001b]8;;\u001b\\\n",
       "\u001b[2;36m                    \u001b[0m         624642324_2472776709_1707546260\u001b[1m)\u001b[0m                                  \u001b[2m                    \u001b[0m\n"
      ]
     },
     "metadata": {},
     "output_type": "display_data"
    },
    {
     "name": "stderr",
     "output_type": "stream",
     "text": [
      "                                                                     \r"
     ]
    },
    {
     "data": {
      "text/html": [
       "<pre style=\"white-space:pre;overflow-x:auto;line-height:normal;font-family:Menlo,'DejaVu Sans Mono',consolas,'Courier New',monospace\"><span style=\"color: #7fbfbf; text-decoration-color: #7fbfbf\">                    </span><span style=\"color: #008000; text-decoration-color: #008000\">INFO    </span> Animation <span style=\"color: #008000; text-decoration-color: #008000\">4</span> : Using cached data <span style=\"font-weight: bold\">(</span>hash :                           <a href=\"file:///Users/themanaspandey/Documents/GitHub/Manim_Simulations/.venv/lib/python3.13/site-packages/manim/renderer/cairo_renderer.py\" target=\"_blank\"><span style=\"color: #7f7f7f; text-decoration-color: #7f7f7f\">cairo_renderer.py</span></a><span style=\"color: #7f7f7f; text-decoration-color: #7f7f7f\">:</span><a href=\"file:///Users/themanaspandey/Documents/GitHub/Manim_Simulations/.venv/lib/python3.13/site-packages/manim/renderer/cairo_renderer.py#89\" target=\"_blank\"><span style=\"color: #7f7f7f; text-decoration-color: #7f7f7f\">89</span></a>\n",
       "<span style=\"color: #7fbfbf; text-decoration-color: #7fbfbf\">                    </span>         624642324_3046172025_1518441317<span style=\"font-weight: bold\">)</span>                                  <span style=\"color: #7f7f7f; text-decoration-color: #7f7f7f\">                    </span>\n",
       "</pre>\n"
      ],
      "text/plain": [
       "\u001b[2;36m                   \u001b[0m\u001b[2;36m \u001b[0m\u001b[32mINFO    \u001b[0m Animation \u001b[32m4\u001b[0m : Using cached data \u001b[1m(\u001b[0mhash :                           \u001b]8;id=570490;file:///Users/themanaspandey/Documents/GitHub/Manim_Simulations/.venv/lib/python3.13/site-packages/manim/renderer/cairo_renderer.py\u001b\\\u001b[2mcairo_renderer.py\u001b[0m\u001b]8;;\u001b\\\u001b[2m:\u001b[0m\u001b]8;id=97042;file:///Users/themanaspandey/Documents/GitHub/Manim_Simulations/.venv/lib/python3.13/site-packages/manim/renderer/cairo_renderer.py#89\u001b\\\u001b[2m89\u001b[0m\u001b]8;;\u001b\\\n",
       "\u001b[2;36m                    \u001b[0m         624642324_3046172025_1518441317\u001b[1m)\u001b[0m                                  \u001b[2m                    \u001b[0m\n"
      ]
     },
     "metadata": {},
     "output_type": "display_data"
    },
    {
     "name": "stderr",
     "output_type": "stream",
     "text": [
      "                                                                           \r"
     ]
    },
    {
     "data": {
      "text/html": [
       "<pre style=\"white-space:pre;overflow-x:auto;line-height:normal;font-family:Menlo,'DejaVu Sans Mono',consolas,'Courier New',monospace\"><span style=\"color: #7fbfbf; text-decoration-color: #7fbfbf\">                    </span><span style=\"color: #008000; text-decoration-color: #008000\">INFO    </span> Animation <span style=\"color: #008000; text-decoration-color: #008000\">5</span> : Partial movie file written in                   <a href=\"file:///Users/themanaspandey/Documents/GitHub/Manim_Simulations/.venv/lib/python3.13/site-packages/manim/scene/scene_file_writer.py\" target=\"_blank\"><span style=\"color: #7f7f7f; text-decoration-color: #7f7f7f\">scene_file_writer.py</span></a><span style=\"color: #7f7f7f; text-decoration-color: #7f7f7f\">:</span><a href=\"file:///Users/themanaspandey/Documents/GitHub/Manim_Simulations/.venv/lib/python3.13/site-packages/manim/scene/scene_file_writer.py#588\" target=\"_blank\"><span style=\"color: #7f7f7f; text-decoration-color: #7f7f7f\">588</span></a>\n",
       "<span style=\"color: #7fbfbf; text-decoration-color: #7fbfbf\">                    </span>         <span style=\"color: #008000; text-decoration-color: #008000\">'/Users/themanaspandey/Documents/GitHub/Manim_Simulations/man</span> <span style=\"color: #7f7f7f; text-decoration-color: #7f7f7f\">                        </span>\n",
       "<span style=\"color: #7fbfbf; text-decoration-color: #7fbfbf\">                    </span>         <span style=\"color: #008000; text-decoration-color: #008000\">im_tutorials/beginner/media/videos/beginner/480p15/partial_mo</span> <span style=\"color: #7f7f7f; text-decoration-color: #7f7f7f\">                        </span>\n",
       "<span style=\"color: #7fbfbf; text-decoration-color: #7fbfbf\">                    </span>         <span style=\"color: #008000; text-decoration-color: #008000\">vie_files/BasicShapes/624642324_3728038509_1534706107.mp4'</span>    <span style=\"color: #7f7f7f; text-decoration-color: #7f7f7f\">                        </span>\n",
       "</pre>\n"
      ],
      "text/plain": [
       "\u001b[2;36m                   \u001b[0m\u001b[2;36m \u001b[0m\u001b[32mINFO    \u001b[0m Animation \u001b[32m5\u001b[0m : Partial movie file written in                   \u001b]8;id=128759;file:///Users/themanaspandey/Documents/GitHub/Manim_Simulations/.venv/lib/python3.13/site-packages/manim/scene/scene_file_writer.py\u001b\\\u001b[2mscene_file_writer.py\u001b[0m\u001b]8;;\u001b\\\u001b[2m:\u001b[0m\u001b]8;id=204994;file:///Users/themanaspandey/Documents/GitHub/Manim_Simulations/.venv/lib/python3.13/site-packages/manim/scene/scene_file_writer.py#588\u001b\\\u001b[2m588\u001b[0m\u001b]8;;\u001b\\\n",
       "\u001b[2;36m                    \u001b[0m         \u001b[32m'/Users/themanaspandey/Documents/GitHub/Manim_Simulations/man\u001b[0m \u001b[2m                        \u001b[0m\n",
       "\u001b[2;36m                    \u001b[0m         \u001b[32mim_tutorials/beginner/media/videos/beginner/480p15/partial_mo\u001b[0m \u001b[2m                        \u001b[0m\n",
       "\u001b[2;36m                    \u001b[0m         \u001b[32mvie_files/BasicShapes/624642324_3728038509_1534706107.mp4'\u001b[0m    \u001b[2m                        \u001b[0m\n"
      ]
     },
     "metadata": {},
     "output_type": "display_data"
    },
    {
     "data": {
      "text/html": [
       "<pre style=\"white-space:pre;overflow-x:auto;line-height:normal;font-family:Menlo,'DejaVu Sans Mono',consolas,'Courier New',monospace\"><span style=\"color: #7fbfbf; text-decoration-color: #7fbfbf\">                    </span><span style=\"color: #008000; text-decoration-color: #008000\">INFO    </span> Animation <span style=\"color: #008000; text-decoration-color: #008000\">6</span> : Partial movie file written in                   <a href=\"file:///Users/themanaspandey/Documents/GitHub/Manim_Simulations/.venv/lib/python3.13/site-packages/manim/scene/scene_file_writer.py\" target=\"_blank\"><span style=\"color: #7f7f7f; text-decoration-color: #7f7f7f\">scene_file_writer.py</span></a><span style=\"color: #7f7f7f; text-decoration-color: #7f7f7f\">:</span><a href=\"file:///Users/themanaspandey/Documents/GitHub/Manim_Simulations/.venv/lib/python3.13/site-packages/manim/scene/scene_file_writer.py#588\" target=\"_blank\"><span style=\"color: #7f7f7f; text-decoration-color: #7f7f7f\">588</span></a>\n",
       "<span style=\"color: #7fbfbf; text-decoration-color: #7fbfbf\">                    </span>         <span style=\"color: #008000; text-decoration-color: #008000\">'/Users/themanaspandey/Documents/GitHub/Manim_Simulations/man</span> <span style=\"color: #7f7f7f; text-decoration-color: #7f7f7f\">                        </span>\n",
       "<span style=\"color: #7fbfbf; text-decoration-color: #7fbfbf\">                    </span>         <span style=\"color: #008000; text-decoration-color: #008000\">im_tutorials/beginner/media/videos/beginner/480p15/partial_mo</span> <span style=\"color: #7f7f7f; text-decoration-color: #7f7f7f\">                        </span>\n",
       "<span style=\"color: #7fbfbf; text-decoration-color: #7fbfbf\">                    </span>         <span style=\"color: #008000; text-decoration-color: #008000\">vie_files/BasicShapes/624642324_2408024828_1603295926.mp4'</span>    <span style=\"color: #7f7f7f; text-decoration-color: #7f7f7f\">                        </span>\n",
       "</pre>\n"
      ],
      "text/plain": [
       "\u001b[2;36m                   \u001b[0m\u001b[2;36m \u001b[0m\u001b[32mINFO    \u001b[0m Animation \u001b[32m6\u001b[0m : Partial movie file written in                   \u001b]8;id=116833;file:///Users/themanaspandey/Documents/GitHub/Manim_Simulations/.venv/lib/python3.13/site-packages/manim/scene/scene_file_writer.py\u001b\\\u001b[2mscene_file_writer.py\u001b[0m\u001b]8;;\u001b\\\u001b[2m:\u001b[0m\u001b]8;id=272003;file:///Users/themanaspandey/Documents/GitHub/Manim_Simulations/.venv/lib/python3.13/site-packages/manim/scene/scene_file_writer.py#588\u001b\\\u001b[2m588\u001b[0m\u001b]8;;\u001b\\\n",
       "\u001b[2;36m                    \u001b[0m         \u001b[32m'/Users/themanaspandey/Documents/GitHub/Manim_Simulations/man\u001b[0m \u001b[2m                        \u001b[0m\n",
       "\u001b[2;36m                    \u001b[0m         \u001b[32mim_tutorials/beginner/media/videos/beginner/480p15/partial_mo\u001b[0m \u001b[2m                        \u001b[0m\n",
       "\u001b[2;36m                    \u001b[0m         \u001b[32mvie_files/BasicShapes/624642324_2408024828_1603295926.mp4'\u001b[0m    \u001b[2m                        \u001b[0m\n"
      ]
     },
     "metadata": {},
     "output_type": "display_data"
    },
    {
     "data": {
      "text/html": [
       "<pre style=\"white-space:pre;overflow-x:auto;line-height:normal;font-family:Menlo,'DejaVu Sans Mono',consolas,'Courier New',monospace\"><span style=\"color: #7fbfbf; text-decoration-color: #7fbfbf\">                    </span><span style=\"color: #008000; text-decoration-color: #008000\">INFO    </span> Combining to Movie file.                                      <a href=\"file:///Users/themanaspandey/Documents/GitHub/Manim_Simulations/.venv/lib/python3.13/site-packages/manim/scene/scene_file_writer.py\" target=\"_blank\"><span style=\"color: #7f7f7f; text-decoration-color: #7f7f7f\">scene_file_writer.py</span></a><span style=\"color: #7f7f7f; text-decoration-color: #7f7f7f\">:</span><a href=\"file:///Users/themanaspandey/Documents/GitHub/Manim_Simulations/.venv/lib/python3.13/site-packages/manim/scene/scene_file_writer.py#739\" target=\"_blank\"><span style=\"color: #7f7f7f; text-decoration-color: #7f7f7f\">739</span></a>\n",
       "</pre>\n"
      ],
      "text/plain": [
       "\u001b[2;36m                   \u001b[0m\u001b[2;36m \u001b[0m\u001b[32mINFO    \u001b[0m Combining to Movie file.                                      \u001b]8;id=336252;file:///Users/themanaspandey/Documents/GitHub/Manim_Simulations/.venv/lib/python3.13/site-packages/manim/scene/scene_file_writer.py\u001b\\\u001b[2mscene_file_writer.py\u001b[0m\u001b]8;;\u001b\\\u001b[2m:\u001b[0m\u001b]8;id=418595;file:///Users/themanaspandey/Documents/GitHub/Manim_Simulations/.venv/lib/python3.13/site-packages/manim/scene/scene_file_writer.py#739\u001b\\\u001b[2m739\u001b[0m\u001b]8;;\u001b\\\n"
      ]
     },
     "metadata": {},
     "output_type": "display_data"
    },
    {
     "data": {
      "text/html": [
       "<pre style=\"white-space:pre;overflow-x:auto;line-height:normal;font-family:Menlo,'DejaVu Sans Mono',consolas,'Courier New',monospace\"><span style=\"color: #7fbfbf; text-decoration-color: #7fbfbf\">                    </span><span style=\"color: #008000; text-decoration-color: #008000\">INFO    </span>                                                               <a href=\"file:///Users/themanaspandey/Documents/GitHub/Manim_Simulations/.venv/lib/python3.13/site-packages/manim/scene/scene_file_writer.py\" target=\"_blank\"><span style=\"color: #7f7f7f; text-decoration-color: #7f7f7f\">scene_file_writer.py</span></a><span style=\"color: #7f7f7f; text-decoration-color: #7f7f7f\">:</span><a href=\"file:///Users/themanaspandey/Documents/GitHub/Manim_Simulations/.venv/lib/python3.13/site-packages/manim/scene/scene_file_writer.py#886\" target=\"_blank\"><span style=\"color: #7f7f7f; text-decoration-color: #7f7f7f\">886</span></a>\n",
       "<span style=\"color: #7fbfbf; text-decoration-color: #7fbfbf\">                    </span>         <span style=\"color: #808000; text-decoration-color: #808000; font-weight: bold\">File</span> ready at                                                 <span style=\"color: #7f7f7f; text-decoration-color: #7f7f7f\">                        </span>\n",
       "<span style=\"color: #7fbfbf; text-decoration-color: #7fbfbf\">                    </span>         <span style=\"color: #008000; text-decoration-color: #008000\">'/Users/themanaspandey/Documents/GitHub/Manim_Simulations/man</span> <span style=\"color: #7f7f7f; text-decoration-color: #7f7f7f\">                        </span>\n",
       "<span style=\"color: #7fbfbf; text-decoration-color: #7fbfbf\">                    </span>         <span style=\"color: #008000; text-decoration-color: #008000\">im_tutorials/beginner/media/videos/beginner/480p15/BasicShape</span> <span style=\"color: #7f7f7f; text-decoration-color: #7f7f7f\">                        </span>\n",
       "<span style=\"color: #7fbfbf; text-decoration-color: #7fbfbf\">                    </span>         <span style=\"color: #008000; text-decoration-color: #008000\">s.mp4'</span>                                                        <span style=\"color: #7f7f7f; text-decoration-color: #7f7f7f\">                        </span>\n",
       "<span style=\"color: #7fbfbf; text-decoration-color: #7fbfbf\">                    </span>                                                                       <span style=\"color: #7f7f7f; text-decoration-color: #7f7f7f\">                        </span>\n",
       "</pre>\n"
      ],
      "text/plain": [
       "\u001b[2;36m                   \u001b[0m\u001b[2;36m \u001b[0m\u001b[32mINFO    \u001b[0m                                                               \u001b]8;id=489542;file:///Users/themanaspandey/Documents/GitHub/Manim_Simulations/.venv/lib/python3.13/site-packages/manim/scene/scene_file_writer.py\u001b\\\u001b[2mscene_file_writer.py\u001b[0m\u001b]8;;\u001b\\\u001b[2m:\u001b[0m\u001b]8;id=929659;file:///Users/themanaspandey/Documents/GitHub/Manim_Simulations/.venv/lib/python3.13/site-packages/manim/scene/scene_file_writer.py#886\u001b\\\u001b[2m886\u001b[0m\u001b]8;;\u001b\\\n",
       "\u001b[2;36m                    \u001b[0m         \u001b[1;33mFile\u001b[0m ready at                                                 \u001b[2m                        \u001b[0m\n",
       "\u001b[2;36m                    \u001b[0m         \u001b[32m'/Users/themanaspandey/Documents/GitHub/Manim_Simulations/man\u001b[0m \u001b[2m                        \u001b[0m\n",
       "\u001b[2;36m                    \u001b[0m         \u001b[32mim_tutorials/beginner/media/videos/beginner/480p15/BasicShape\u001b[0m \u001b[2m                        \u001b[0m\n",
       "\u001b[2;36m                    \u001b[0m         \u001b[32ms.mp4'\u001b[0m                                                        \u001b[2m                        \u001b[0m\n",
       "\u001b[2;36m                    \u001b[0m                                                                       \u001b[2m                        \u001b[0m\n"
      ]
     },
     "metadata": {},
     "output_type": "display_data"
    },
    {
     "data": {
      "text/html": [
       "<pre style=\"white-space:pre;overflow-x:auto;line-height:normal;font-family:Menlo,'DejaVu Sans Mono',consolas,'Courier New',monospace\"><span style=\"color: #7fbfbf; text-decoration-color: #7fbfbf\">                    </span><span style=\"color: #008000; text-decoration-color: #008000\">INFO    </span> <span style=\"color: #808000; text-decoration-color: #808000; font-weight: bold\">Rendered</span> BasicShapes                                                      <a href=\"file:///Users/themanaspandey/Documents/GitHub/Manim_Simulations/.venv/lib/python3.13/site-packages/manim/scene/scene.py\" target=\"_blank\"><span style=\"color: #7f7f7f; text-decoration-color: #7f7f7f\">scene.py</span></a><span style=\"color: #7f7f7f; text-decoration-color: #7f7f7f\">:</span><a href=\"file:///Users/themanaspandey/Documents/GitHub/Manim_Simulations/.venv/lib/python3.13/site-packages/manim/scene/scene.py#255\" target=\"_blank\"><span style=\"color: #7f7f7f; text-decoration-color: #7f7f7f\">255</span></a>\n",
       "<span style=\"color: #7fbfbf; text-decoration-color: #7fbfbf\">                    </span>         <span style=\"color: #808000; text-decoration-color: #808000; font-weight: bold\">Played</span> <span style=\"color: #008000; text-decoration-color: #008000\">7</span> <span style=\"color: #808000; text-decoration-color: #808000; font-weight: bold\">animations</span>                                                       <span style=\"color: #7f7f7f; text-decoration-color: #7f7f7f\">            </span>\n",
       "</pre>\n"
      ],
      "text/plain": [
       "\u001b[2;36m                   \u001b[0m\u001b[2;36m \u001b[0m\u001b[32mINFO    \u001b[0m \u001b[1;33mRendered\u001b[0m BasicShapes                                                      \u001b]8;id=573013;file:///Users/themanaspandey/Documents/GitHub/Manim_Simulations/.venv/lib/python3.13/site-packages/manim/scene/scene.py\u001b\\\u001b[2mscene.py\u001b[0m\u001b]8;;\u001b\\\u001b[2m:\u001b[0m\u001b]8;id=454295;file:///Users/themanaspandey/Documents/GitHub/Manim_Simulations/.venv/lib/python3.13/site-packages/manim/scene/scene.py#255\u001b\\\u001b[2m255\u001b[0m\u001b]8;;\u001b\\\n",
       "\u001b[2;36m                    \u001b[0m         \u001b[1;33mPlayed\u001b[0m \u001b[32m7\u001b[0m \u001b[1;33manimations\u001b[0m                                                       \u001b[2m            \u001b[0m\n"
      ]
     },
     "metadata": {},
     "output_type": "display_data"
    },
    {
     "data": {
      "text/html": [
       "<pre style=\"white-space:pre;overflow-x:auto;line-height:normal;font-family:Menlo,'DejaVu Sans Mono',consolas,'Courier New',monospace\"><span style=\"color: #7fbfbf; text-decoration-color: #7fbfbf\">[07/25/25 14:25:15] </span><span style=\"color: #008000; text-decoration-color: #008000\">INFO    </span> Previewed <span style=\"color: #808000; text-decoration-color: #808000; font-weight: bold\">File</span> at:                                                     <a href=\"file:///Users/themanaspandey/Documents/GitHub/Manim_Simulations/.venv/lib/python3.13/site-packages/manim/utils/file_ops.py\" target=\"_blank\"><span style=\"color: #7f7f7f; text-decoration-color: #7f7f7f\">file_ops.py</span></a><span style=\"color: #7f7f7f; text-decoration-color: #7f7f7f\">:</span><a href=\"file:///Users/themanaspandey/Documents/GitHub/Manim_Simulations/.venv/lib/python3.13/site-packages/manim/utils/file_ops.py#237\" target=\"_blank\"><span style=\"color: #7f7f7f; text-decoration-color: #7f7f7f\">237</span></a>\n",
       "<span style=\"color: #7fbfbf; text-decoration-color: #7fbfbf\">                    </span>         <span style=\"color: #008000; text-decoration-color: #008000\">'/Users/themanaspandey/Documents/GitHub/Manim_Simulations/manim_tutori</span> <span style=\"color: #7f7f7f; text-decoration-color: #7f7f7f\">               </span>\n",
       "<span style=\"color: #7fbfbf; text-decoration-color: #7fbfbf\">                    </span>         <span style=\"color: #008000; text-decoration-color: #008000\">als/beginner/media/videos/beginner/480p15/BasicShapes.mp4'</span>             <span style=\"color: #7f7f7f; text-decoration-color: #7f7f7f\">               </span>\n",
       "</pre>\n"
      ],
      "text/plain": [
       "\u001b[2;36m[07/25/25 14:25:15]\u001b[0m\u001b[2;36m \u001b[0m\u001b[32mINFO    \u001b[0m Previewed \u001b[1;33mFile\u001b[0m at:                                                     \u001b]8;id=305014;file:///Users/themanaspandey/Documents/GitHub/Manim_Simulations/.venv/lib/python3.13/site-packages/manim/utils/file_ops.py\u001b\\\u001b[2mfile_ops.py\u001b[0m\u001b]8;;\u001b\\\u001b[2m:\u001b[0m\u001b]8;id=644449;file:///Users/themanaspandey/Documents/GitHub/Manim_Simulations/.venv/lib/python3.13/site-packages/manim/utils/file_ops.py#237\u001b\\\u001b[2m237\u001b[0m\u001b]8;;\u001b\\\n",
       "\u001b[2;36m                    \u001b[0m         \u001b[32m'/Users/themanaspandey/Documents/GitHub/Manim_Simulations/manim_tutori\u001b[0m \u001b[2m               \u001b[0m\n",
       "\u001b[2;36m                    \u001b[0m         \u001b[32mals/beginner/media/videos/beginner/480p15/BasicShapes.mp4'\u001b[0m             \u001b[2m               \u001b[0m\n"
      ]
     },
     "metadata": {},
     "output_type": "display_data"
    },
    {
     "data": {
      "text/html": [
       "<video src=\"media/jupyter/BasicShapes@2025-07-25@14-25-15.mp4\" controls autoplay loop style=\"max-width: 60%;\"  >\n",
       "      Your browser does not support the <code>video</code> element.\n",
       "    </video>"
      ],
      "text/plain": [
       "<IPython.core.display.Video object>"
      ]
     },
     "metadata": {},
     "output_type": "display_data"
    }
   ],
   "source": [
    "%%manim -pql BasicShapes\n",
    "\n",
    "from manim import *\n",
    "\n",
    "class BasicShapes(Scene):\n",
    "    def construct(self):\n",
    "        # Create various shapes\n",
    "        circle = Circle()\n",
    "        square = Square()\n",
    "        triangle = Triangle()\n",
    "        rectangle = Rectangle(height=2, width=3)\n",
    "        ellipse = Ellipse()\n",
    "        pentagon = RegularPolygon(n=5)\n",
    "\n",
    "        \n",
    "        # Set colors for each shape\n",
    "        circle.set_fill(PINK, opacity=0.5)\n",
    "        square.set_fill(BLUE, opacity=0.5)\n",
    "        triangle.set_fill(GREEN, opacity=0.5)\n",
    "        rectangle.set_fill(YELLOW, opacity=0.5)\n",
    "        ellipse.set_fill(ORANGE, opacity=0.5)\n",
    "        pentagon.set_fill(PURPLE, opacity=0.5)\n",
    "        # Position the shapes\n",
    "        circle.shift(LEFT * 4)\n",
    "        square.shift(LEFT)\n",
    "        triangle.shift(RIGHT)\n",
    "        rectangle.shift(RIGHT * 4)\n",
    "        ellipse.shift(DOWN * 2)\n",
    "        pentagon.shift(UP * 2)\n",
    "        # Add shapes to the scene\n",
    "        self.play(Create(circle))\n",
    "        self.play(Create(square))\n",
    "        self.play(Create(triangle))\n",
    "        self.play(Create(rectangle))\n",
    "        self.play(Create(ellipse))\n",
    "        self.play(Create(pentagon))\n",
    "        # Wait for a moment\n",
    "        self.wait(2)"
   ]
  },
  {
   "cell_type": "markdown",
   "metadata": {},
   "source": [
    "## Interactive Elements\n",
    "Try modifying the code above to:\n",
    "1. Change the colors of the shapes\n",
    "2. Adjust the size of the shapes using parameters\n",
    "3. Try different positioning combinations\n",
    "\n",
    "## Coding Exercises\n",
    "\n",
    "### Exercise 1: Create a Pentagon\n",
    "Create a pentagon and add it to the scene. Position it above the other shapes:"
   ]
  },
  {
   "cell_type": "code",
   "execution_count": 22,
   "metadata": {},
   "outputs": [
    {
     "data": {
      "text/plain": [
       "RegularPolygon"
      ]
     },
     "execution_count": 22,
     "metadata": {},
     "output_type": "execute_result"
    }
   ],
   "source": [
    "# Your solution here\n",
    "pentagon = RegularPolygon(n=5)\n",
    "pentagon.set_fill(PURPLE, opacity=0.5)\n",
    "pentagon.shift(UP * 2)"
   ]
  },
  {
   "cell_type": "markdown",
   "metadata": {},
   "source": [
    "### Exercise 2: Create a Custom Scene\n",
    "Create a scene with three different shapes of your choice, each with different colors and positions:"
   ]
  },
  {
   "cell_type": "code",
   "execution_count": 24,
   "metadata": {},
   "outputs": [
    {
     "data": {
      "text/html": [
       "<pre style=\"white-space:pre;overflow-x:auto;line-height:normal;font-family:Menlo,'DejaVu Sans Mono',consolas,'Courier New',monospace\">Manim Community <span style=\"color: #008000; text-decoration-color: #008000\">v0.19.0</span>\n",
       "\n",
       "</pre>\n"
      ],
      "text/plain": [
       "Manim Community \u001b[32mv0.\u001b[0m\u001b[32m19.0\u001b[0m\n",
       "\n"
      ]
     },
     "metadata": {},
     "output_type": "display_data"
    },
    {
     "data": {
      "text/html": [
       "<pre style=\"white-space:pre;overflow-x:auto;line-height:normal;font-family:Menlo,'DejaVu Sans Mono',consolas,'Courier New',monospace\"><span style=\"color: #7fbfbf; text-decoration-color: #7fbfbf\">[07/25/25 14:25:32] </span><span style=\"color: #008000; text-decoration-color: #008000\">INFO    </span>                                                               <a href=\"file:///Users/themanaspandey/Documents/GitHub/Manim_Simulations/.venv/lib/python3.13/site-packages/manim/scene/scene_file_writer.py\" target=\"_blank\"><span style=\"color: #7f7f7f; text-decoration-color: #7f7f7f\">scene_file_writer.py</span></a><span style=\"color: #7f7f7f; text-decoration-color: #7f7f7f\">:</span><a href=\"file:///Users/themanaspandey/Documents/GitHub/Manim_Simulations/.venv/lib/python3.13/site-packages/manim/scene/scene_file_writer.py#886\" target=\"_blank\"><span style=\"color: #7f7f7f; text-decoration-color: #7f7f7f\">886</span></a>\n",
       "<span style=\"color: #7fbfbf; text-decoration-color: #7fbfbf\">                    </span>         <span style=\"color: #808000; text-decoration-color: #808000; font-weight: bold\">File</span> ready at                                                 <span style=\"color: #7f7f7f; text-decoration-color: #7f7f7f\">                        </span>\n",
       "<span style=\"color: #7fbfbf; text-decoration-color: #7fbfbf\">                    </span>         <span style=\"color: #008000; text-decoration-color: #008000\">'/Users/themanaspandey/Documents/GitHub/Manim_Simulations/man</span> <span style=\"color: #7f7f7f; text-decoration-color: #7f7f7f\">                        </span>\n",
       "<span style=\"color: #7fbfbf; text-decoration-color: #7fbfbf\">                    </span>         <span style=\"color: #008000; text-decoration-color: #008000\">im_tutorials/beginner/media/images/beginner/CustomShapes_Mani</span> <span style=\"color: #7f7f7f; text-decoration-color: #7f7f7f\">                        </span>\n",
       "<span style=\"color: #7fbfbf; text-decoration-color: #7fbfbf\">                    </span>         <span style=\"color: #008000; text-decoration-color: #008000\">mCE_v0.19.0.png'</span>                                              <span style=\"color: #7f7f7f; text-decoration-color: #7f7f7f\">                        </span>\n",
       "<span style=\"color: #7fbfbf; text-decoration-color: #7fbfbf\">                    </span>                                                                       <span style=\"color: #7f7f7f; text-decoration-color: #7f7f7f\">                        </span>\n",
       "</pre>\n"
      ],
      "text/plain": [
       "\u001b[2;36m[07/25/25 14:25:32]\u001b[0m\u001b[2;36m \u001b[0m\u001b[32mINFO    \u001b[0m                                                               \u001b]8;id=703408;file:///Users/themanaspandey/Documents/GitHub/Manim_Simulations/.venv/lib/python3.13/site-packages/manim/scene/scene_file_writer.py\u001b\\\u001b[2mscene_file_writer.py\u001b[0m\u001b]8;;\u001b\\\u001b[2m:\u001b[0m\u001b]8;id=794965;file:///Users/themanaspandey/Documents/GitHub/Manim_Simulations/.venv/lib/python3.13/site-packages/manim/scene/scene_file_writer.py#886\u001b\\\u001b[2m886\u001b[0m\u001b]8;;\u001b\\\n",
       "\u001b[2;36m                    \u001b[0m         \u001b[1;33mFile\u001b[0m ready at                                                 \u001b[2m                        \u001b[0m\n",
       "\u001b[2;36m                    \u001b[0m         \u001b[32m'/Users/themanaspandey/Documents/GitHub/Manim_Simulations/man\u001b[0m \u001b[2m                        \u001b[0m\n",
       "\u001b[2;36m                    \u001b[0m         \u001b[32mim_tutorials/beginner/media/images/beginner/CustomShapes_Mani\u001b[0m \u001b[2m                        \u001b[0m\n",
       "\u001b[2;36m                    \u001b[0m         \u001b[32mmCE_v0.19.0.png'\u001b[0m                                              \u001b[2m                        \u001b[0m\n",
       "\u001b[2;36m                    \u001b[0m                                                                       \u001b[2m                        \u001b[0m\n"
      ]
     },
     "metadata": {},
     "output_type": "display_data"
    },
    {
     "data": {
      "text/html": [
       "<pre style=\"white-space:pre;overflow-x:auto;line-height:normal;font-family:Menlo,'DejaVu Sans Mono',consolas,'Courier New',monospace\"><span style=\"color: #7fbfbf; text-decoration-color: #7fbfbf\">                    </span><span style=\"color: #008000; text-decoration-color: #008000\">INFO    </span> <span style=\"color: #808000; text-decoration-color: #808000; font-weight: bold\">Rendered</span> CustomShapes                                                     <a href=\"file:///Users/themanaspandey/Documents/GitHub/Manim_Simulations/.venv/lib/python3.13/site-packages/manim/scene/scene.py\" target=\"_blank\"><span style=\"color: #7f7f7f; text-decoration-color: #7f7f7f\">scene.py</span></a><span style=\"color: #7f7f7f; text-decoration-color: #7f7f7f\">:</span><a href=\"file:///Users/themanaspandey/Documents/GitHub/Manim_Simulations/.venv/lib/python3.13/site-packages/manim/scene/scene.py#255\" target=\"_blank\"><span style=\"color: #7f7f7f; text-decoration-color: #7f7f7f\">255</span></a>\n",
       "<span style=\"color: #7fbfbf; text-decoration-color: #7fbfbf\">                    </span>         <span style=\"color: #808000; text-decoration-color: #808000; font-weight: bold\">Played</span> <span style=\"color: #008000; text-decoration-color: #008000\">0</span> <span style=\"color: #808000; text-decoration-color: #808000; font-weight: bold\">animations</span>                                                       <span style=\"color: #7f7f7f; text-decoration-color: #7f7f7f\">            </span>\n",
       "</pre>\n"
      ],
      "text/plain": [
       "\u001b[2;36m                   \u001b[0m\u001b[2;36m \u001b[0m\u001b[32mINFO    \u001b[0m \u001b[1;33mRendered\u001b[0m CustomShapes                                                     \u001b]8;id=560608;file:///Users/themanaspandey/Documents/GitHub/Manim_Simulations/.venv/lib/python3.13/site-packages/manim/scene/scene.py\u001b\\\u001b[2mscene.py\u001b[0m\u001b]8;;\u001b\\\u001b[2m:\u001b[0m\u001b]8;id=396435;file:///Users/themanaspandey/Documents/GitHub/Manim_Simulations/.venv/lib/python3.13/site-packages/manim/scene/scene.py#255\u001b\\\u001b[2m255\u001b[0m\u001b]8;;\u001b\\\n",
       "\u001b[2;36m                    \u001b[0m         \u001b[1;33mPlayed\u001b[0m \u001b[32m0\u001b[0m \u001b[1;33manimations\u001b[0m                                                       \u001b[2m            \u001b[0m\n"
      ]
     },
     "metadata": {},
     "output_type": "display_data"
    },
    {
     "data": {
      "text/html": [
       "<pre style=\"white-space:pre;overflow-x:auto;line-height:normal;font-family:Menlo,'DejaVu Sans Mono',consolas,'Courier New',monospace\"><span style=\"color: #7fbfbf; text-decoration-color: #7fbfbf\">                    </span><span style=\"color: #008000; text-decoration-color: #008000\">INFO    </span> Previewed <span style=\"color: #808000; text-decoration-color: #808000; font-weight: bold\">File</span> at:                                                     <a href=\"file:///Users/themanaspandey/Documents/GitHub/Manim_Simulations/.venv/lib/python3.13/site-packages/manim/utils/file_ops.py\" target=\"_blank\"><span style=\"color: #7f7f7f; text-decoration-color: #7f7f7f\">file_ops.py</span></a><span style=\"color: #7f7f7f; text-decoration-color: #7f7f7f\">:</span><a href=\"file:///Users/themanaspandey/Documents/GitHub/Manim_Simulations/.venv/lib/python3.13/site-packages/manim/utils/file_ops.py#237\" target=\"_blank\"><span style=\"color: #7f7f7f; text-decoration-color: #7f7f7f\">237</span></a>\n",
       "<span style=\"color: #7fbfbf; text-decoration-color: #7fbfbf\">                    </span>         <span style=\"color: #008000; text-decoration-color: #008000\">'/Users/themanaspandey/Documents/GitHub/Manim_Simulations/manim_tutori</span> <span style=\"color: #7f7f7f; text-decoration-color: #7f7f7f\">               </span>\n",
       "<span style=\"color: #7fbfbf; text-decoration-color: #7fbfbf\">                    </span>         <span style=\"color: #008000; text-decoration-color: #008000\">als/beginner/media/images/beginner/CustomShapes_ManimCE_v0.19.0.png'</span>   <span style=\"color: #7f7f7f; text-decoration-color: #7f7f7f\">               </span>\n",
       "</pre>\n"
      ],
      "text/plain": [
       "\u001b[2;36m                   \u001b[0m\u001b[2;36m \u001b[0m\u001b[32mINFO    \u001b[0m Previewed \u001b[1;33mFile\u001b[0m at:                                                     \u001b]8;id=459564;file:///Users/themanaspandey/Documents/GitHub/Manim_Simulations/.venv/lib/python3.13/site-packages/manim/utils/file_ops.py\u001b\\\u001b[2mfile_ops.py\u001b[0m\u001b]8;;\u001b\\\u001b[2m:\u001b[0m\u001b]8;id=903237;file:///Users/themanaspandey/Documents/GitHub/Manim_Simulations/.venv/lib/python3.13/site-packages/manim/utils/file_ops.py#237\u001b\\\u001b[2m237\u001b[0m\u001b]8;;\u001b\\\n",
       "\u001b[2;36m                    \u001b[0m         \u001b[32m'/Users/themanaspandey/Documents/GitHub/Manim_Simulations/manim_tutori\u001b[0m \u001b[2m               \u001b[0m\n",
       "\u001b[2;36m                    \u001b[0m         \u001b[32mals/beginner/media/images/beginner/CustomShapes_ManimCE_v0.19.0.png'\u001b[0m   \u001b[2m               \u001b[0m\n"
      ]
     },
     "metadata": {},
     "output_type": "display_data"
    },
    {
     "data": {
      "image/png": "[encoded data removed]",
      "text/plain": [
       "<IPython.core.display.Image object>"
      ]
     },
     "metadata": {},
     "output_type": "display_data"
    }
   ],
   "source": [
    "%%manim -pql CustomShapes\n",
    "\n",
    "from manim import *\n",
    "\n",
    "class CustomShapes(Scene):\n",
    "    def construct(self):\n",
    "        # Your code here\n",
    "        pass"
   ]
  },
  {
   "cell_type": "markdown",
   "metadata": {},
   "source": [
    "## Summary\n",
    "In this tutorial, we've learned:\n",
    "- How to create various basic geometric shapes in Manim\n",
    "- How to apply colors and styling to shapes\n",
    "- How to position shapes using the `shift` method\n",
    "- How to display multiple shapes in a single scene\n",
    "\n",
    "## Further Reading\n",
    "- [Manim Documentation - Mobject Reference](https://docs.manim.community/en/stable/reference.html#mobjects)\n",
    "- [Manim Community GitHub](https://github.com/ManimCommunity/manim)\n",
    "- Next tutorial: Simple Animations"
   ]
  }
 ],
 "metadata": {
  "kernelspec": {
   "display_name": ".venv",
   "language": "python",
   "name": "python3"
  },
  "language_info": {
   "codemirror_mode": {
    "name": "ipython",
    "version": 3
   },
   "file_extension": ".py",
   "mimetype": "text/x-python",
   "name": "python",
   "nbconvert_exporter": "python",
   "pygments_lexer": "ipython3",
   "version": "3.13.5"
  }
 },
 "nbformat": 4,
 "nbformat_minor": 4
}
