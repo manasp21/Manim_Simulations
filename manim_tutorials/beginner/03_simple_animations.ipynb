{
 "cells": [
  {
   "cell_type": "markdown",
   "metadata": {},
   "source": [
    "# Simple Animations in Manim\n",
    "\n",
    "## Learning Objectives\n",
    "By the end of this tutorial, you will be able to:\n",
    "- Use basic animation methods in Manim\n",
    "- Transform objects from one shape to another\n",
    "- Apply rotation and movement animations\n",
    "- Combine multiple animations in a scene\n",
    "- Fade objects in and out of the scene\n",
    "\n",
    "## Prerequisites\n",
    "Before starting this tutorial, you should:\n",
    "- Have completed the Introduction to Manim tutorial\n",
    "- Have completed the Basic Shapes tutorial\n",
    "- Understand how to create and position objects\n",
    "\n",
    "## Introduction\n",
    "In this tutorial, we'll explore how to create simple animations in Manim. We'll learn about different animation methods like `Create`, `Transform`, `Rotate`, and `FadeOut`, and how to combine them to create more complex animated sequences.\n",
    "\n",
    "## Step-by-Step Instructions\n",
    "\n",
    "### 1. Importing Manim\n",
    "As always, we start by importing the Manim library:"
   ]
  },
  {
   "cell_type": "code",
   "execution_count": null,
   "metadata": {},
   "outputs": [],
   "source": [
    "from manim import *"
   ]
  },
  {
   "cell_type": "markdown",
   "metadata": {},
   "source": [
    "### 2. Creating Objects for Animation\n",
    "Let's create a circle and a square that we'll animate:"
   ]
  },
  {
   "cell_type": "code",
   "execution_count": null,
   "metadata": {},
   "outputs": [],
   "source": [
    "class SimpleAnimations(Scene):\n",
    "    def construct(self):\n",
    "        # Create a circle\n",
    "        circle = Circle()\n",
    "        circle.set_fill(PINK, opacity=0.5)\n",
    "        \n",
    "        # Create a square\n",
    "        square = Square()\n",
    "        square.set_fill(BLUE, opacity=0.5)\n",
    "        \n",
    "        # Position the square to the right of the circle\n",
    "        square.shift(RIGHT * 3)"
   ]
  },
  {
   "cell_type": "markdown",
   "metadata": {},
   "source": [
    "### 3. Creating Objects with Animation\n",
    "We can use the `Create` animation to show the creation of objects:"
   ]
  },
  {
   "cell_type": "code",
   "execution_count": null,
   "metadata": {},
   "outputs": [],
   "source": [
    "class SimpleAnimations(Scene):\n",
    "    def construct(self):\n",
    "        # Create a circle\n",
    "        circle = Circle()\n",
    "        circle.set_fill(PINK, opacity=0.5)\n",
    "        \n",
    "        # Create a square\n",
    "        square = Square()\n",
    "        square.set_fill(BLUE, opacity=0.5)\n",
    "        \n",
    "        # Position the square to the right of the circle\n",
    "        square.shift(RIGHT * 3)\n",
    "        \n",
    "        # Show creation of both shapes\n",
    "        self.play(Create(circle), Create(square))\n",
    "        self.wait(1)"
   ]
  },
  {
   "cell_type": "markdown",
   "metadata": {},
   "source": [
    "### 4. Transforming Objects\n",
    "We can transform one object into another using the `Transform` animation:"
   ]
  },
  {
   "cell_type": "code",
   "execution_count": null,
   "metadata": {},
   "outputs": [],
   "source": [
    "class SimpleAnimations(Scene):\n",
    "    def construct(self):\n",
    "        # Create a circle\n",
    "        circle = Circle()\n",
    "        circle.set_fill(PINK, opacity=0.5)\n",
    "        \n",
    "        # Create a square\n",
    "        square = Square()\n",
    "        square.set_fill(BLUE, opacity=0.5)\n",
    "        \n",
    "        # Position the square to the right of the circle\n",
    "        square.shift(RIGHT * 3)\n",
    "        \n",
    "        # Show creation of both shapes\n",
    "        self.play(Create(circle), Create(square))\n",
    "        self.wait(1)\n",
    "        \n",
    "        # Transform the circle into a square\n",
    "        self.play(Transform(circle, square.copy()))\n",
    "        self.wait(1)"
   ]
  },
  {
   "cell_type": "markdown",
   "metadata": {},
   "source": [
    "### 5. Rotating Objects\n",
    "We can rotate objects using the `Rotate` animation:"
   ]
  },
  {
   "cell_type": "code",
   "execution_count": null,
   "metadata": {},
   "outputs": [],
   "source": [
    "class SimpleAnimations(Scene):\n",
    "    def construct(self):\n",
    "        # Create a circle\n",
    "        circle = Circle()\n",
    "        circle.set_fill(PINK, opacity=0.5)\n",
    "        \n",
    "        # Create a square\n",
    "        square = Square()\n",
    "        square.set_fill(BLUE, opacity=0.5)\n",
    "        \n",
    "        # Position the square to the right of the circle\n",
    "        square.shift(RIGHT * 3)\n",
    "        \n",
    "        # Show creation of both shapes\n",
    "        self.play(Create(circle), Create(square))\n",
    "        self.wait(1)\n",
    "        \n",
    "        # Transform the circle into a square\n",
    "        self.play(Transform(circle, square.copy()))\n",
    "        self.wait(1)\n",
    "        \n",
    "        # Rotate the square\n",
    "        self.play(Rotate(square, PI))\n",
    "        self.wait(1)"
   ]
  },
  {
   "cell_type": "markdown",
   "metadata": {},
   "source": [
    "### 6. Moving Objects\n",
    "We can move objects using the `animate` syntax:"
   ]
  },
  {
   "cell_type": "code",
   "execution_count": null,
   "metadata": {},
   "outputs": [],
   "source": [
    "class SimpleAnimations(Scene):\n",
    "    def construct(self):\n",
    "        # Create a circle\n",
    "        circle = Circle()\n",
    "        circle.set_fill(PINK, opacity=0.5)\n",
    "        \n",
    "        # Create a square\n",
    "        square = Square()\n",
    "        square.set_fill(BLUE, opacity=0.5)\n",
    "        \n",
    "        # Position the square to the right of the circle\n",
    "        square.shift(RIGHT * 3)\n",
    "        \n",
    "        # Show creation of both shapes\n",
    "        self.play(Create(circle), Create(square))\n",
    "        self.wait(1)\n",
    "        \n",
    "        # Transform the circle into a square\n",
    "        self.play(Transform(circle, square.copy()))\n",
    "        self.wait(1)\n",
    "        \n",
    "        # Rotate the square\n",
    "        self.play(Rotate(square, PI))\n",
    "        self.wait(1)\n",
    "        \n",
    "        # Move the circle to the left\n",
    "        self.play(circle.animate.shift(LEFT * 3))\n",
    "        self.wait(1)"
   ]
  },
  {
   "cell_type": "markdown",
   "metadata": {},
   "source": [
    "### 7. Fading Out Objects\n",
    "Finally, we can fade out objects using the `FadeOut` animation:"
   ]
  },
  {
   "cell_type": "code",
   "execution_count": null,
   "metadata": {},
   "outputs": [],
   "source": [
    "class SimpleAnimations(Scene):\n",
    "    def construct(self):\n",
    "        # Create a circle\n",
    "        circle = Circle()\n",
    "        circle.set_fill(PINK, opacity=0.5)\n",
    "        \n",
    "        # Create a square\n",
    "        square = Square()\n",
    "        square.set_fill(BLUE, opacity=0.5)\n",
    "        \n",
    "        # Position the square to the right of the circle\n",
    "        square.shift(RIGHT * 3)\n",
    "        \n",
    "        # Show creation of both shapes\n",
    "        self.play(Create(circle), Create(square))\n",
    "        self.wait(1)\n",
    "        \n",
    "        # Transform the circle into a square\n",
    "        self.play(Transform(circle, square.copy()))\n",
    "        self.wait(1)\n",
    "        \n",
    "        # Rotate the square\n",
    "        self.play(Rotate(square, PI))\n",
    "        self.wait(1)\n",
    "        \n",
    "        # Move the circle to the left\n",
    "        self.play(circle.animate.shift(LEFT * 3))\n",
    "        self.wait(1)\n",
    "        \n",
    "        # Fade out both objects\n",
    "        self.play(FadeOut(circle), FadeOut(square))\n",
    "        self.wait(1)"
   ]
  },
  {
   "cell_type": "markdown",
   "metadata": {},
   "source": [
    "Let's render this scene to see all the animations:"
   ]
  },
  {
   "cell_type": "code",
   "execution_count": null,
   "metadata": {},
   "outputs": [],
   "source": [
    "%%manim -pql SimpleAnimations\n",
    "\n",
    "from manim import *\n",
    "\n",
    "class SimpleAnimations(Scene):\n",
    "    def construct(self):\n",
    "        # Create a circle\n",
    "        circle = Circle()\n",
    "        circle.set_fill(PINK, opacity=0.5)\n",
    "        \n",
    "        # Create a square\n",
    "        square = Square()\n",
    "        square.set_fill(BLUE, opacity=0.5)\n",
    "        \n",
    "        # Position the square to the right of the circle\n",
    "        square.shift(RIGHT * 3)\n",
    "        \n",
    "        # Show creation of both shapes\n",
    "        self.play(Create(circle), Create(square))\n",
    "        self.wait(1)\n",
    "        \n",
    "        # Transform the circle into a square\n",
    "        self.play(Transform(circle, square.copy()))\n",
    "        self.wait(1)\n",
    "        \n",
    "        # Rotate the square\n",
    "        self.play(Rotate(square, PI))\n",
    "        self.wait(1)\n",
    "        \n",
    "        # Move the circle to the left\n",
    "        self.play(circle.animate.shift(LEFT * 3))\n",
    "        self.wait(1)\n",
    "        \n",
    "        # Fade out both objects\n",
    "        self.play(FadeOut(circle), FadeOut(square))\n",
    "        self.wait(1)"
   ]
  },
  {
   "cell_type": "markdown",
   "metadata": {},
   "source": [
    "## Interactive Elements\n",
    "Try modifying the code above to:\n",
    "1. Change the rotation angle\n",
    "2. Adjust the movement distance\n",
    "3. Try different animation combinations\n",
    "\n",
    "## Coding Exercises\n",
    "\n",
    "### Exercise 1: Add a Scaling Animation\n",
    "Add a scaling animation to make the square larger before fading it out:"
   ]
  },
  {
   "cell_type": "code",
   "execution_count": null,
   "metadata": {},
   "outputs": [],
   "source": [
    "# Your solution here\n",
    "# self.play(square.animate.scale(2))"
   ]
  },
  {
   "cell_type": "markdown",
   "metadata": {},
   "source": [
    "### Exercise 2: Create a Custom Animation Sequence\n",
    "Create a scene with your own animation sequence using at least 4 different animation types:"
   ]
  },
  {
   "cell_type": "code",
   "execution_count": null,
   "metadata": {},
   "outputs": [],
   "source": [
    "%%manim -pql CustomAnimation\n",
    "\n",
    "from manim import *\n",
    "\n",
    "class CustomAnimation(Scene):\n",
    "    def construct(self):\n",
    "        # Your code here\n",
    "        pass"
   ]
  },
  {
   "cell_type": "markdown",
   "metadata": {},
   "source": [
    "## Summary\n",
    "In this tutorial, we've learned:\n",
    "- How to use basic animation methods in Manim\n",
    "- How to transform objects from one shape to another\n",
    "- How to apply rotation and movement animations\n",
    "- How to combine multiple animations in a scene\n",
    "- How to fade objects in and out of the scene\n",
    "\n",
    "## Further Reading\n",
    "- [Manim Documentation - Animation Reference](https://docs.manim.community/en/stable/reference.html#animations)\n",
    "- [Manim Community GitHub](https://github.com/ManimCommunity/manim)\n",
    "- Next tutorial: Text and LaTeX"
   ]
  }
 ],
 "metadata": {
  "kernelspec": {
   "display_name": "Python 3",
   "language": "python",
   "name": "python3"
  },
  "language_info": {
   "name": "python",
   "version": "3.8.0"
  }
 },
 "nbformat": 4,
 "nbformat_minor": 4
}