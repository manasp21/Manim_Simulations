{
 "cells": [
  {
   "cell_type": "markdown",
   "metadata": {},
   "source": [
    "# Text and LaTeX in Manim\n",
    "\n",
    "## Learning Objectives\n",
    "By the end of this tutorial, you will be able to:\n",
    "- Create and display text in Manim\n",
    "- Use LaTeX to render mathematical expressions\n",
    "- Position text and equations in your scenes\n",
    "- Apply animations to text objects\n",
    "- Transform text objects\n",
    "\n",
    "## Prerequisites\n",
    "Before starting this tutorial, you should:\n",
    "- Have completed the Introduction to Manim tutorial\n",
    "- Have completed the Basic Shapes tutorial\n",
    "- Have completed the Simple Animations tutorial\n",
    "- Have a basic understanding of LaTeX syntax (helpful but not required)\n",
    "\n",
    "## Introduction\n",
    "In this tutorial, we'll explore how to work with text and mathematical expressions in Manim. We'll learn about the `Text` and `MathTex` classes, which allow us to add textual content and mathematical equations to our animations.\n",
    "\n",
    "## Step-by-Step Instructions\n",
    "\n",
    "### 1. Importing Manim\n",
    "As always, we start by importing the Manim library:"
   ]
  },
  {
   "cell_type": "code",
   "execution_count": null,
   "metadata": {},
   "outputs": [],
   "source": [
    "from manim import *"
   ]
  },
  {
   "cell_type": "markdown",
   "metadata": {},
   "source": [
    "### 2. Creating Simple Text\n",
    "We can create text using the `Text` class:"
   ]
  },
  {
   "cell_type": "code",
   "execution_count": null,
   "metadata": {},
   "outputs": [],
   "source": [
    "class TextAndLaTeX(Scene):\n",
    "    def construct(self):\n",
    "        # Create simple text\n",
    "        text = Text(\"Hello, Manim!\")\n",
    "        text.shift(UP * 2)"
   ]
  },
  {
   "cell_type": "markdown",
   "metadata": {},
   "source": [
    "### 3. Creating LaTeX Mathematical Expressions\n",
    "We can create mathematical expressions using the `MathTex` class:"
   ]
  },
  {
   "cell_type": "code",
   "execution_count": null,
   "metadata": {},
   "outputs": [],
   "source": [
    "class TextAndLaTeX(Scene):\n",
    "    def construct(self):\n",
    "        # Create simple text\n",
    "        text = Text(\"Hello, Manim!\")\n",
    "        text.shift(UP * 2)\n",
    "        \n",
    "        # Create LaTeX text\n",
    "        latex = MathTex(r\"\\int_{-\\infty}^{\\infty} e^{-x^2} dx = \\sqrt{\\pi}\")"
   ]
  },
  {
   "cell_type": "markdown",
   "metadata": {},
   "source": [
    "### 4. Creating More Complex LaTeX Expressions\n",
    "We can create more complex mathematical expressions:"
   ]
  },
  {
   "cell_type": "code",
   "execution_count": null,
   "metadata": {},
   "outputs": [],
   "source": [
    "class TextAndLaTeX(Scene):\n",
    "    def construct(self):\n",
    "        # Create simple text\n",
    "        text = Text(\"Hello, Manim!\")\n",
    "        text.shift(UP * 2)\n",
    "        \n",
    "        # Create LaTeX text\n",
    "        latex = MathTex(r\"\\int_{-\\infty}^{\\infty} e^{-x^2} dx = \\sqrt{\\pi}\")\n",
    "        \n",
    "        # Create more complex LaTeX\n",
    "        equation = MathTex(r\"e^{i\\pi} + 1 = 0\")\n",
    "        equation.shift(DOWN * 2)"
   ]
  },
  {
   "cell_type": "markdown",
   "metadata": {},
   "source": [
    "### 5. Displaying Text and Equations\n",
    "We can display text and equations using the `Write` animation:"
   ]
  },
  {
   "cell_type": "code",
   "execution_count": null,
   "metadata": {},
   "outputs": [],
   "source": [
    "class TextAndLaTeX(Scene):\n",
    "    def construct(self):\n",
    "        # Create simple text\n",
    "        text = Text(\"Hello, Manim!\")\n",
    "        text.shift(UP * 2)\n",
    "        \n",
    "        # Create LaTeX text\n",
    "        latex = MathTex(r\"\\int_{-\\infty}^{\\infty} e^{-x^2} dx = \\sqrt{\\pi}\")\n",
    "        \n",
    "        # Create more complex LaTeX\n",
    "        equation = MathTex(r\"e^{i\\pi} + 1 = 0\")\n",
    "        equation.shift(DOWN * 2)\n",
    "        \n",
    "        # Display the text and equations\n",
    "        self.play(Write(text))\n",
    "        self.wait(1)\n",
    "        \n",
    "        self.play(Write(latex))\n",
    "        self.wait(1)\n",
    "        \n",
    "        self.play(Write(equation))\n",
    "        self.wait(2)"
   ]
  },
  {
   "cell_type": "markdown",
   "metadata": {},
   "source": [
    "### 6. Transforming Text\n",
    "We can transform text objects just like other objects:"
   ]
  },
  {
   "cell_type": "code",
   "execution_count": null,
   "metadata": {},
   "outputs": [],
   "source": [
    "class TextAndLaTeX(Scene):\n",
    "    def construct(self):\n",
    "        # Create simple text\n",
    "        text = Text(\"Hello, Manim!\")\n",
    "        text.shift(UP * 2)\n",
    "        \n",
    "        # Create LaTeX text\n",
    "        latex = MathTex(r\"\\int_{-\\infty}^{\\infty} e^{-x^2} dx = \\sqrt{\\pi}\")\n",
    "        \n",
    "        # Create more complex LaTeX\n",
    "        equation = MathTex(r\"e^{i\\pi} + 1 = 0\")\n",
    "        equation.shift(DOWN * 2)\n",
    "        \n",
    "        # Display the text and equations\n",
    "        self.play(Write(text))\n",
    "        self.wait(1)\n",
    "        \n",
    "        self.play(Write(latex))\n",
    "        self.wait(1)\n",
    "        \n",
    "        self.play(Write(equation))\n",
    "        self.wait(2)\n",
    "        \n",
    "        # Transform the text\n",
    "        self.play(Transform(text, Text(\"Text Transformations\").shift(UP * 2)))\n",
    "        self.wait(1)"
   ]
  },
  {
   "cell_type": "markdown",
   "metadata": {},
   "source": [
    "Let's render this scene to see text and LaTeX in action:"
   ]
  },
  {
   "cell_type": "code",
   "execution_count": null,
   "metadata": {},
   "outputs": [],
   "source": [
    "%%manim -pql TextAndLaTeX\n",
    "\n",
    "from manim import *\n",
    "\n",
    "class TextAndLaTeX(Scene):\n",
    "    def construct(self):\n",
    "        # Create simple text\n",
    "        text = Text(\"Hello, Manim!\")\n",
    "        text.shift(UP * 2)\n",
    "        \n",
    "        # Create LaTeX text\n",
    "        latex = MathTex(r\"\\int_{-\\infty}^{\\infty} e^{-x^2} dx = \\sqrt{\\pi}\")\n",
    "        \n",
    "        # Create more complex LaTeX\n",
    "        equation = MathTex(r\"e^{i\\pi} + 1 = 0\")\n",
    "        equation.shift(DOWN * 2)\n",
    "        \n",
    "        # Display the text and equations\n",
    "        self.play(Write(text))\n",
    "        self.wait(1)\n",
    "        \n",
    "        self.play(Write(latex))\n",
    "        self.wait(1)\n",
    "        \n",
    "        self.play(Write(equation))\n",
    "        self.wait(2)\n",
    "        \n",
    "        # Transform the text\n",
    "        self.play(Transform(text, Text(\"Text Transformations\").shift(UP * 2)))\n",
    "        self.wait(1)"
   ]
  },
  {
   "cell_type": "markdown",
   "metadata": {},
   "source": [
    "## Interactive Elements\n",
    "Try modifying the code above to:\n",
    "1. Change the text content\n",
    "2. Create your own mathematical expressions\n",
    "3. Try different positioning for text and equations\n",
    "\n",
    "## Coding Exercises\n",
    "\n",
    "### Exercise 1: Create a Mathematical Expression\n",
    "Create a LaTeX expression for the quadratic formula and add it to the scene:"
   ]
  },
  {
   "cell_type": "code",
   "execution_count": null,
   "metadata": {},
   "outputs": [],
   "source": [
    "# Your solution here\n",
    "quadratic = MathTex(r\"x = \\frac{-b \\pm \\sqrt{b^2 - 4ac}}{2a}\")"
   ]
  },
  {
   "cell_type": "markdown",
   "metadata": {},
   "source": [
    "### Exercise 2: Create a Scene with Text and Equations\n",
    "Create a scene that displays a title text and at least two mathematical equations:"
   ]
  },
  {
   "cell_type": "code",
   "execution_count": null,
   "metadata": {},
   "outputs": [],
   "source": [
    "%%manim -pql TextAndEquations\n",
    "\n",
    "from manim import *\n",
    "\n",
    "class TextAndEquations(Scene):\n",
    "    def construct(self):\n",
    "        # Your code here\n",
    "        pass"
   ]
  },
  {
   "cell_type": "markdown",
   "metadata": {},
   "source": [
    "## Summary\n",
    "In this tutorial, we've learned:\n",
    "- How to create and display text in Manim using the `Text` class\n",
    "- How to render mathematical expressions using the `MathTex` class\n",
    "- How to position text and equations in scenes\n",
    "- How to apply animations to text objects\n",
    "- How to transform text objects\n",
    "\n",
    "## Further Reading\n",
    "- [Manim Documentation - Text Reference](https://docs.manim.community/en/stable/reference.html#text)\n",
    "- [LaTeX Mathematics](https://en.wikibooks.org/wiki/LaTeX/Mathematics)\n",
    "- [Manim Community GitHub](https://github.com/ManimCommunity/manim)\n",
    "- Next tutorial: Colors and Styling"
   ]
  }
 ],
 "metadata": {
  "kernelspec": {
   "display_name": "Python 3",
   "language": "python",
   "name": "python3"
  },
  "language_info": {
   "name": "python",
   "version": "3.8.0"
  }
 },
 "nbformat": 4,
 "nbformat_minor": 4
}