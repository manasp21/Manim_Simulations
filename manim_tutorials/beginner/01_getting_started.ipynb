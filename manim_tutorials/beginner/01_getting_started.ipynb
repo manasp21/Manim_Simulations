{
 "cells": [
  {
   "cell_type": "markdown",
   "metadata": {},
   "source": [
    "# Introduction to Manim\n",
    "\n",
    "## Learning Objectives\n",
    "By the end of this tutorial, you will be able to:\n",
    "- Understand what Manim is and its applications\n",
    "- Set up a basic Manim scene\n",
    "- Create simple geometric shapes\n",
    "- Add text to your animations\n",
    "- Render and play your first animation\n",
    "\n",
    "## Prerequisites\n",
    "Before starting this tutorial, you should:\n",
    "- Have Python 3.8 or higher installed\n",
    "- Have Manim installed (see `setup_instructions.md` for installation details)\n",
    "- Have a basic understanding of Python programming\n",
    "\n",
    "## Introduction\n",
    "Manim (Mathematical Animation Engine) is a Python library for creating mathematical animations. Originally created by Grant Sanderson of 3Blue1Brown, Manim allows you to programmatically create precise animations for educational content, presentations, and videos.\n",
    "\n",
    "In this tutorial, we'll create our first Manim scene with a simple circle and text. This will introduce you to the basic structure of a Manim scene and how to render animations.\n",
    "\n",
    "## Step-by-Step Instructions\n",
    "\n",
    "### 1. Importing Manim\n",
    "First, we need to import the Manim library:"
   ]
  },
  {
   "cell_type": "code",
   "execution_count": null,
   "metadata": {},
   "outputs": [],
   "source": [
    "from manim import *"
   ]
  },
  {
   "cell_type": "markdown",
   "metadata": {},
   "source": [
    "### 2. Creating a Scene Class\n",
    "All Manim animations are contained within a scene class that inherits from `Scene`:"
   ]
  },
  {
   "cell_type": "code",
   "execution_count": null,
   "metadata": {},
   "outputs": [],
   "source": [
    "class GettingStarted(Scene):\n",
    "    def construct(self):\n",
    "        # Scene content goes here\n",
    "        pass"
   ]
  },
  {
   "cell_type": "markdown",
   "metadata": {},
   "source": [
    "### 3. Creating Objects\n",
    "Inside the `construct` method, we create the objects we want to display:"
   ]
  },
  {
   "cell_type": "code",
   "execution_count": null,
   "metadata": {},
   "outputs": [],
   "source": [
    "class GettingStarted(Scene):\n",
    "    def construct(self):\n",
    "        # Create a simple circle\n",
    "        circle = Circle()\n",
    "        circle.set_fill(PINK, opacity=0.5)\n",
    "        \n",
    "        # Create text\n",
    "        text = Text(\"Hello, Manim!\")\n",
    "        \n",
    "        # Position the text below the circle\n",
    "        text.next_to(circle, DOWN)"
   ]
  },
  {
   "cell_type": "markdown",
   "metadata": {},
   "source": [
    "### 4. Adding Objects to the Scene\n",
    "We use animation methods to add objects to the scene:"
   ]
  },
  {
   "cell_type": "code",
   "execution_count": null,
   "metadata": {},
   "outputs": [],
   "source": [
    "class GettingStarted(Scene):\n",
    "    def construct(self):\n",
    "        # Create a simple circle\n",
    "        circle = Circle()\n",
    "        circle.set_fill(PINK, opacity=0.5)\n",
    "        \n",
    "        # Create text\n",
    "        text = Text(\"Hello, Manim!\")\n",
    "        \n",
    "        # Position the text below the circle\n",
    "        text.next_to(circle, DOWN)\n",
    "        \n",
    "        # Add the circle and text to the scene\n",
    "        self.play(Create(circle))\n",
    "        self.play(Write(text))\n",
    "        \n",
    "        # Wait for a moment\n",
    "        self.wait(2)"
   ]
  },
  {
   "cell_type": "markdown",
   "metadata": {},
   "source": [
    "### 5. Rendering the Animation\n",
    "To render this scene, you would typically run the following command in your terminal:\n",
    "\n",
    "```bash\n",
    "manim -pql 01_introduction_to_manim.py GettingStarted\n",
    "```\n",
    "\n",
    "However, in this Jupyter notebook, we'll use the `%%manim` magic command to render directly:"
   ]
  },
  {
   "cell_type": "code",
   "execution_count": null,
   "metadata": {},
   "outputs": [],
   "source": [
    "%%manim -pql GettingStarted\n",
    "\n",
    "from manim import *\n",
    "\n",
    "class GettingStarted(Scene):\n",
    "    def construct(self):\n",
    "        # Create a simple circle\n",
    "        circle = Circle()\n",
    "        circle.set_fill(PINK, opacity=0.5)\n",
    "        \n",
    "        # Create text\n",
    "        text = Text(\"Hello, Manim!\")\n",
    "        \n",
    "        # Position the text below the circle\n",
    "        text.next_to(circle, DOWN)\n",
    "        \n",
    "        # Add the circle and text to the scene\n",
    "        self.play(Create(circle))\n",
    "        self.play(Write(text))\n",
    "        \n",
    "        # Wait for a moment\n",
    "        self.wait(2)"
   ]
  },
  {
   "cell_type": "markdown",
   "metadata": {},
   "source": [
    "## Interactive Elements\n",
    "Try modifying the code above to change:\n",
    "1. The color of the circle\n",
    "2. The text content\n",
    "3. The position of the text relative to the circle\n",
    "\n",
    "## Coding Exercises\n",
    "\n",
    "### Exercise 1: Change the Circle Properties\n",
    "Modify the circle to be blue with full opacity:"
   ]
  },
  {
   "cell_type": "code",
   "execution_count": null,
   "metadata": {},
   "outputs": [],
   "source": [
    "# Your solution here\n",
    "circle = Circle()\n",
    "circle.set_fill(BLUE, opacity=1.0)"
   ]
  },
  {
   "cell_type": "markdown",
   "metadata": {},
   "source": [
    "### Exercise 2: Add Another Shape\n",
    "Add a square to the scene that appears after the circle:"
   ]
  },
  {
   "cell_type": "code",
   "execution_count": null,
   "metadata": {},
   "outputs": [],
   "source": [
    "%%manim -pql GettingStartedExercise\n",
    "\n",
    "from manim import *\n",
    "\n",
    "class GettingStartedExercise(Scene):\n",
    "    def construct(self):\n",
    "        # Create a simple circle\n",
    "        circle = Circle()\n",
    "        circle.set_fill(PINK, opacity=0.5)\n",
    "        \n",
    "        # Create text\n",
    "        text = Text(\"Hello, Manim!\")\n",
    "        \n",
    "        # Position the text below the circle\n",
    "        text.next_to(circle, DOWN)\n",
    "        \n",
    "        # Add the circle and text to the scene\n",
    "        self.play(Create(circle))\n",
    "        self.play(Write(text))\n",
    "        \n",
    "        # Add your square here\n",
    "        # Your code here\n",
    "        \n",
    "        # Wait for a moment\n",
    "        self.wait(2)"
   ]
  },
  {
   "cell_type": "markdown",
   "metadata": {},
   "source": [
    "## Summary\n",
    "In this tutorial, we've learned:\n",
    "- How to set up a basic Manim scene\n",
    "- How to create geometric shapes and text\n",
    "- How to position objects relative to each other\n",
    "- How to add objects to a scene with animations\n",
    "- How to render and play animations\n",
    "\n",
    "## Further Reading\n",
    "- [Manim Documentation](https://docs.manim.community/)\n",
    "- [Manim Community GitHub](https://github.com/ManimCommunity/manim)\n",
    "- Next tutorial: Basic Shapes"
   ]
  }
 ],
 "metadata": {
  "kernelspec": {
   "display_name": "Python 3",
   "language": "python",
   "name": "python3"
  },
  "language_info": {
   "name": "python",
   "version": "3.8.0"
  }
 },
 "nbformat": 4,
 "nbformat_minor": 4
}