{
 "cells": [
  {
   "cell_type": "markdown",
   "metadata": {},
   "source": [
    "# 3D Scenes in Manim\n",
    "\n",
    "## Learning Objectives\n",
    "\n",
    "By the end of this tutorial, you will be able to:\n",
    "\n",
    "- Create 3D scenes using ThreeDScene\n",
    "- Work with 3D axes and coordinate systems\n",
    "- Create and manipulate 3D objects like spheres and cubes\n",
    "- Control camera movements and orientations\n",
    "- Create parametric surfaces in 3D space\n",
    "- Animate 3D objects and camera movements\n",
    "\n",
    "## Prerequisites\n",
    "\n",
    "Before starting this tutorial, you should:\n",
    "\n",
    "- Have completed the beginner tutorials\n",
    "- Understand basic Manim scene structure\n",
    "- Be familiar with creating and animating 2D mobjects\n",
    "- Have a basic understanding of 3D coordinate systems\n",
    "\n",
    "## Introduction\n",
    "\n",
    "Manim provides powerful tools for creating 3D animations. In this tutorial, we'll explore how to create 3D scenes, work with 3D objects, and control camera movements to create engaging 3D visualizations.\n",
    "\n",
    "## Step-by-Step Instructions\n",
    "\n",
    "### 1. Importing Manim\n",
    "\n",
    "As always, we start by importing the Manim library:"
   ]
  },
  {
   "cell_type": "code",
   "execution_count": null,
   "metadata": {},
   "outputs": [],
   "source": [
    "from manim import *"
   ]
  },
  {
   "cell_type": "markdown",
   "metadata": {},
   "source": [
    "### 2. Creating a 3D Scene\n",
    "\n",
    "To create 3D scenes, we need to inherit from `ThreeDScene` instead of `Scene`:"
   ]
  },
  {
   "cell_type": "code",
   "execution_count": null,
   "metadata": {},
   "outputs": [],
   "source": [
    "class Basic3DScene(ThreeDScene):\n",
    "    def construct(self):\n",
    "        # Set camera orientation\n",
    "        self.set_camera_orientation(phi=75 * DEGREES, theta=30 * DEGREES)\n",
    "        \n",
    "        # Create 3D axes\n",
    "        axes = ThreeDAxes()\n",
    "        \n",
    "        # Display axes\n",
    "        self.play(Create(axes))\n",
    "        self.wait(2)"
   ]
  },
  {
   "cell_type": "markdown",
   "metadata": {},
   "source": [
    "Let's render this scene to see our 3D axes:"
   ]
  },
  {
   "cell_type": "code",
   "execution_count": null,
   "metadata": {},
   "outputs": [],
   "source": [
    "%%manim -pql Basic3DScene\n",
    "\n",
    "from manim import *\n",
    "\n",
    "class Basic3DScene(ThreeDScene):\n",
    "    def construct(self):\n",
    "        # Set camera orientation\n",
    "        self.set_camera_orientation(phi=75 * DEGREES, theta=30 * DEGREES)\n",
    "        \n",
    "        # Create 3D axes\n",
    "        axes = ThreeDAxes()\n",
    "        \n",
    "        # Display axes\n",
    "        self.play(Create(axes))\n",
    "        self.wait(2)"
   ]
  },
  {
   "cell_type": "markdown",
   "metadata": {},
   "source": [
    "### 3. Creating 3D Objects\n",
    "\n",
    "Let's create some basic 3D objects like spheres and cubes:"
   ]
  },
  {
   "cell_type": "code",
   "execution_count": null,
   "metadata": {},
   "outputs": [],
   "source": [
    "class Basic3DObjects(ThreeDScene):\n",
    "    def construct(self):\n",
    "        # Set camera orientation\n",
    "        self.set_camera_orientation(phi=75 * DEGREES, theta=30 * DEGREES)\n",
    "        \n",
    "        # Create 3D axes\n",
    "        axes = ThreeDAxes()\n",
    "        \n",
    "        # Create a 3D sphere\n",
    "        sphere = Sphere(radius=1, color=BLUE, fill_opacity=0.5)\n",
    "        \n",
    "        # Create a 3D cube\n",
    "        cube = Cube(side_length=1, fill_color=RED, fill_opacity=0.5)\n",
    "        cube.shift(RIGHT * 2)\n",
    "        \n",
    "        # Display axes\n",
    "        self.play(Create(axes))\n",
    "        self.wait(1)\n",
    "        \n",
    "        # Display 3D objects\n",
    "        self.play(Create(sphere))\n",
    "        self.play(Create(cube))\n",
    "        self.wait(2)"
   ]
  },
  {
   "cell_type": "markdown",
   "metadata": {},
   "source": [
    "Let's render this scene:"
   ]
  },
  {
   "cell_type": "code",
   "execution_count": null,
   "metadata": {},
   "outputs": [],
   "source": [
    "%%manim -pql Basic3DObjects\n",
    "\n",
    "from manim import *\n",
    "\n",
    "class Basic3DObjects(ThreeDScene):\n",
    "    def construct(self):\n",
    "        # Set camera orientation\n",
    "        self.set_camera_orientation(phi=75 * DEGREES, theta=30 * DEGREES)\n",
    "        \n",
    "        # Create 3D axes\n",
    "        axes = ThreeDAxes()\n",
    "        \n",
    "        # Create a 3D sphere\n",
    "        sphere = Sphere(radius=1, color=BLUE, fill_opacity=0.5)\n",
    "        \n",
    "        # Create a 3D cube\n",
    "        cube = Cube(side_length=1, fill_color=RED, fill_opacity=0.5)\n",
    "        cube.shift(RIGHT * 2)\n",
    "        \n",
    "        # Display axes\n",
    "        self.play(Create(axes))\n",
    "        self.wait(1)\n",
    "        \n",
    "        # Display 3D objects\n",
    "        self.play(Create(sphere))\n",
    "        self.play(Create(cube))\n",
    "        self.wait(2)"
   ]
  },
  {
   "cell_type": "markdown",
   "metadata": {},
   "source": [
    "### 4. Camera Movements\n",
    "\n",
    "One of the most powerful features of 3D scenes is the ability to move the camera:"
   ]
  },
  {
   "cell_type": "code",
   "execution_count": null,
   "metadata": {},
   "outputs": [],
   "source": [
    "class CameraMovement(ThreeDScene):\n",
    "    def construct(self):\n",
    "        # Set camera orientation\n",
    "        self.set_camera_orientation(phi=75 * DEGREES, theta=30 * DEGREES)\n",
    "        \n",
    "        # Create 3D axes\n",
    "        axes = ThreeDAxes()\n",
    "        \n",
    "        # Create a 3D sphere\n",
    "        sphere = Sphere(radius=1, color=BLUE, fill_opacity=0.5)\n",
    "        \n",
    "        # Create a 3D cube\n",
    "        cube = Cube(side_length=1, fill_color=RED, fill_opacity=0.5)\n",
    "        cube.shift(RIGHT * 2)\n",
    "        \n",
    "        # Display axes and objects\n",
    "        self.play(Create(axes), Create(sphere), Create(cube))\n",
    "        self.wait(1)\n",
    "        \n",
    "        # Rotate the camera\n",
    "        self.begin_ambient_camera_rotation(rate=0.2)\n",
    "        self.wait(4)\n",
    "        self.stop_ambient_camera_rotation()\n",
    "        \n",
    "        self.wait(2)"
   ]
  },
  {
   "cell_type": "markdown",
   "metadata": {},
   "source": [
    "Let's render this scene:"
   ]
  },
  {
   "cell_type": "code",
   "execution_count": null,
   "metadata": {},
   "outputs": [],
   "source": [
    "%%manim -pql CameraMovement\n",
    "\n",
    "from manim import *\n",
    "\n",
    "class CameraMovement(ThreeDScene):\n",
    "    def construct(self):\n",
    "        # Set camera orientation\n",
    "        self.set_camera_orientation(phi=75 * DEGREES, theta=30 * DEGREES)\n",
    "        \n",
    "        # Create 3D axes\n",
    "        axes = ThreeDAxes()\n",
    "        \n",
    "        # Create a 3D sphere\n",
    "        sphere = Sphere(radius=1, color=BLUE, fill_opacity=0.5)\n",
    "        \n",
    "        # Create a 3D cube\n",
    "        cube = Cube(side_length=1, fill_color=RED, fill_opacity=0.5)\n",
    "        cube.shift(RIGHT * 2)\n",
    "        \n",
    "        # Display axes and objects\n",
    "        self.play(Create(axes), Create(sphere), Create(cube))\n",
    "        self.wait(1)\n",
    "        \n",
    "        # Rotate the camera\n",
    "        self.begin_ambient_camera_rotation(rate=0.2)\n",
    "        self.wait(4)\n",
    "        self.stop_ambient_camera_rotation()\n",
    "        \n",
    "        self.wait(2)"
   ]
  },
  {
   "cell_type": "markdown",
   "metadata": {},
   "source": [
    "### 5. Moving 3D Objects\n",
    "\n",
    "We can also move 3D objects in space:"
   ]
  },
  {
   "cell_type": "code",
   "execution_count": null,
   "metadata": {},
   "outputs": [],
   "source": [
    "class Moving3DObjects(ThreeDScene):\n",
    "    def construct(self):\n",
    "        # Set camera orientation\n",
    "        self.set_camera_orientation(phi=75 * DEGREES, theta=30 * DEGREES)\n",
    "        \n",
    "        # Create 3D axes\n",
    "        axes = ThreeDAxes()\n",
    "        \n",
    "        # Create a 3D sphere\n",
    "        sphere = Sphere(radius=1, color=BLUE, fill_opacity=0.5)\n",
    "        \n",
    "        # Create a 3D cube\n",
    "        cube = Cube(side_length=1, fill_color=RED, fill_opacity=0.5)\n",
    "        cube.shift(RIGHT * 2)\n",
    "        \n",
    "        # Display axes and objects\n",
    "        self.play(Create(axes), Create(sphere), Create(cube))\n",
    "        self.wait(1)\n",
    "        \n",
    "        # Move objects\n",
    "        self.play(\n",
    "            sphere.animate.shift(UP * 2),\n",
    "            cube.animate.shift(LEFT * 2)\n",
    "        )\n",
    "        self.wait(2)"
   ]
  },
  {
   "cell_type": "markdown",
   "metadata": {},
   "source": [
    "Let's render this scene:"
   ]
  },
  {
   "cell_type": "code",
   "execution_count": null,
   "metadata": {},
   "outputs": [],
   "source": [
    "%%manim -pql Moving3DObjects\n",
    "\n",
    "from manim import *\n",
    "\n",
    "class Moving3DObjects(ThreeDScene):\n",
    "    def construct(self):\n",
    "        # Set camera orientation\n",
    "        self.set_camera_orientation(phi=75 * DEGREES, theta=30 * DEGREES)\n",
    "        \n",
    "        # Create 3D axes\n",
    "        axes = ThreeDAxes()\n",
    "        \n",
    "        # Create a 3D sphere\n",
    "        sphere = Sphere(radius=1, color=BLUE, fill_opacity=0.5)\n",
    "        \n",
    "        # Create a 3D cube\n",
    "        cube = Cube(side_length=1, fill_color=RED, fill_opacity=0.5)\n",
    "        cube.shift(RIGHT * 2)\n",
    "        \n",
    "        # Display axes and objects\n",
    "        self.play(Create(axes), Create(sphere), Create(cube))\n",
    "        self.wait(1)\n",
    "        \n",
    "        # Move objects\n",
    "        self.play(\n",
    "            sphere.animate.shift(UP * 2),\n",
    "            cube.animate.shift(LEFT * 2)\n",
    "        )\n",
    "        self.wait(2)"
   ]
  },
  {
   "cell_type": "markdown",
   "metadata": {},
   "source": [
    "### 6. Changing Camera Orientation\n",
    "\n",
    "We can also change the camera orientation to view the scene from different angles:"
   ]
  },
  {
   "cell_type": "code",
   "execution_count": null,
   "metadata": {},
   "outputs": [],
   "source": [
    "class CameraOrientation(ThreeDScene):\n",
    "    def construct(self):\n",
    "        # Set initial camera orientation\n",
    "        self.set_camera_orientation(phi=75 * DEGREES, theta=30 * DEGREES)\n",
    "        \n",
    "        # Create 3D axes\n",
    "        axes = ThreeDAxes()\n",
    "        \n",
    "        # Create a 3D sphere\n",
    "        sphere = Sphere(radius=1, color=BLUE, fill_opacity=0.5)\n",
    "        \n",
    "        # Create a 3D cube\n",
    "        cube = Cube(side_length=1, fill_color=RED, fill_opacity=0.5)\n",
    "        cube.shift(RIGHT * 2)\n",
    "        \n",
    "        # Display axes and objects\n",
    "        self.play(Create(axes), Create(sphere), Create(cube))\n",
    "        self.wait(1)\n",
    "        \n",
    "        # Change camera orientation\n",
    "        self.move_camera(phi=45 * DEGREES, theta=-45 * DEGREES, run_time=3)\n",
    "        self.wait(2)\n",
    "        \n",
    "        # Change to another orientation\n",
    "        self.move_camera(phi=90 * DEGREES, theta=0, run_time=3)\n",
    "        self.wait(2)"
   ]
  },
  {
   "cell_type": "markdown",
   "metadata": {},
   "source": [
    "Let's render this scene:"
   ]
  },
  {
   "cell_type": "code",
   "execution_count": null,
   "metadata": {},
   "outputs": [],
   "source": [
    "%%manim -pql CameraOrientation\n",
    "\n",
    "from manim import *\n",
    "\n",
    "class CameraOrientation(ThreeDScene):\n",
    "    def construct(self):\n",
    "        # Set initial camera orientation\n",
    "        self.set_camera_orientation(phi=75 * DEGREES, theta=30 * DEGREES)\n",
    "        \n",
    "        # Create 3D axes\n",
    "        axes = ThreeDAxes()\n",
    "        \n",
    "        # Create a 3D sphere\n",
    "        sphere = Sphere(radius=1, color=BLUE, fill_opacity=0.5)\n",
    "        \n",
    "        # Create a 3D cube\n",
    "        cube = Cube(side_length=1, fill_color=RED, fill_opacity=0.5)\n",
    "        cube.shift(RIGHT * 2)\n",
    "        \n",
    "        # Display axes and objects\n",
    "        self.play(Create(axes), Create(sphere), Create(cube))\n",
    "        self.wait(1)\n",
    "        \n",
    "        # Change camera orientation\n",
    "        self.move_camera(phi=45 * DEGREES, theta=-45 * DEGREES, run_time=3)\n",
    "        self.wait(2)\n",
    "        \n",
    "        # Change to another orientation\n",
    "        self.move_camera(phi=90 * DEGREES, theta=0, run_time=3)\n",
    "        self.wait(2)"
   ]
  },
  {
   "cell_type": "markdown",
   "metadata": {},
   "source": [
    "### 7. Creating Parametric Surfaces\n",
    "\n",
    "One of the most powerful features of 3D scenes is the ability to create parametric surfaces:"
   ]
  },
  {
   "cell_type": "code",
   "execution_count": null,
   "metadata": {},
   "outputs": [],
   "source": [
    "class ParametricSurfaceExample(ThreeDScene):\n",
    "    def construct(self):\n",
    "        # Set camera orientation\n",
    "        self.set_camera_orientation(phi=75 * DEGREES, theta=30 * DEGREES)\n",
    "        \n",
    "        # Create a parametric surface\n",
    "        surface = Surface(\n",
    "            lambda u, v: np.array([\n",
    "                u,\n",
    "                v,\n",
    "                np.sin(u) * np.cos(v)\n",
    "            ]),\n",
    "            u_range=[-3, 3],\n",
    "            v_range=[-3, 3],\n",
    "            fill_opacity=0.7,\n",
    "            checkerboard_colors=[BLUE_D, BLUE_E],\n",
    "        )\n",
    "        \n",
    "        # Display the surface\n",
    "        self.play(Create(surface), run_time=3)\n",
    "        self.wait(2)\n",
    "        \n",
    "        # Rotate the camera to view from different angles\n",
    "        self.begin_ambient_camera_rotation(rate=0.1)\n",
    "        self.wait(6)\n",
    "        self.stop_ambient_camera_rotation()\n",
    "        self.wait(1)"
   ]
  },
  {
   "cell_type": "markdown",
   "metadata": {},
   "source": [
    "Let's render this scene:"
   ]
  },
  {
   "cell_type": "code",
   "execution_count": null,
   "metadata": {},
   "outputs": [],
   "source": [
    "%%manim -pql ParametricSurfaceExample\n",
    "\n",
    "from manim import *\n",
    "\n",
    "class ParametricSurfaceExample(ThreeDScene):\n",
    "    def construct(self):\n",
    "        # Set camera orientation\n",
    "        self.set_camera_orientation(phi=75 * DEGREES, theta=30 * DEGREES)\n",
    "        \n",
    "        # Create a parametric surface\n",
    "        surface = Surface(\n",
    "            lambda u, v: np.array([\n",
    "                u,\n",
    "                v,\n",
    "                np.sin(u) * np.cos(v)\n",
    "            ]),\n",
    "            u_range=[-3, 3],\n",
    "            v_range=[-3, 3],\n",
    "            fill_opacity=0.7,\n",
    "            checkerboard_colors=[BLUE_D, BLUE_E],\n",
    "        )\n",
    "        \n",
    "        # Display the surface\n",
    "        self.play(Create(surface), run_time=3)\n",
    "        self.wait(2)\n",
    "        \n",
    "        # Rotate the camera to view from different angles\n",
    "        self.begin_ambient_camera_rotation(rate=0.1)\n",
    "        self.wait(6)\n",
    "        self.stop_ambient_camera_rotation()\n",
    "        self.wait(1)"
   ]
  },
  {
   "cell_type": "markdown",
   "metadata": {},
   "source": [
    "## Interactive Elements\n",
    "\n",
    "Try modifying the code above to:\n",
    "\n",
    "1. Change the camera orientation angles\n",
    "2. Create different 3D objects (cones, cylinders, etc.)\n",
    "3. Modify the parametric surface equations\n",
    "4. Experiment with different camera movement speeds\n",
    "\n",
    "## Coding Exercises\n",
    "\n",
    "### Exercise 1: Create a 3D Coordinate System\n",
    "\n",
    "Create a scene with labeled 3D axes and a point at (1, 2, 3):"
   ]
  },
  {
   "cell_type": "code",
   "execution_count": null,
   "metadata": {},
   "outputs": [],
   "source": [
    "# Your solution here\n",
    "\n",
    "# Create 3D axes with labels\n",
    "axes = ThreeDAxes()\n",
    "x_label = Tex(\"x\").next_to(axes.get_x_axis(), RIGHT)\n",
    "y_label = Tex(\"y\").next_to(axes.get_y_axis(), UP)\n",
    "z_label = Tex(\"z\").next_to(axes.get_z_axis(), UP)\n",
    "\n",
    "# Create a point at (1, 2, 3)\n",
    "point = Dot3D(point=axes.coords_to_point(1, 2, 3), color=YELLOW)\n",
    "point_label = Text(\"(1, 2, 3)\", font_size=24).next_to(point, UP)"
   ]
  },
  {
   "cell_type": "markdown",
   "metadata": {},
   "source": [
    "### Exercise 2: Create a Rotating 3D Object\n",
    "\n",
    "Create a scene with a rotating 3D object of your choice:"
   ]
  },
  {
   "cell_type": "code",
   "execution_count": null,
   "metadata": {},
   "outputs": [],
   "source": [
    "%%manim -pql Rotating3DObject\n",
    "\n",
    "from manim import *\n",
    "\n",
    "class Rotating3DObject(ThreeDScene):\n",
    "    def construct(self):\n",
    "        # Your code here\n",
    "        pass"
   ]
  },
  {
   "cell_type": "markdown",
   "metadata": {},
   "source": [
    "## Summary\n",
    "\n",
    "In this tutorial, we've learned:\n",
    "\n",
    "- How to create 3D scenes using ThreeDScene\n",
    "- How to work with 3D axes and coordinate systems\n",
    "- How to create and manipulate 3D objects like spheres and cubes\n",
    "- How to control camera movements and orientations\n",
    "- How to create parametric surfaces in 3D space\n",
    "- How to animate 3D objects and camera movements\n",
    "\n",
    "## Further Reading\n",
    "\n",
    "- [Manim Documentation - 3D Reference](https://docs.manim.community/en/stable/reference.html#three-dimensional-scenes)\n",
    "- [Manim Community GitHub](https://github.com/ManimCommunity/manim)\n",
    "- Next tutorial: Custom Mobjects"
   ]
  }
 ],
 "metadata": {
  "kernelspec": {
   "display_name": "Python 3",
   "language": "python",
   "name": "python3"
  },
  "language_info": {
   "name": "python",
   "version": "3.8.0"
  }
 },
 "nbformat": 4,
 "nbformat_minor": 4
}