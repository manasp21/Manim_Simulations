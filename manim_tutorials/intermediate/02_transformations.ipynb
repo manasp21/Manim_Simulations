{
 "cells": [
  {
   "cell_type": "markdown",
   "metadata": {},
   "source": [
    "# Transformations in Manim\n",
    "\n",
    "## Learning Objectives\n",
    "\n",
    "By the end of this tutorial, you will be able to:\n",
    "\n",
    "- Apply basic transformations (scale, rotate, move) to mobjects\n",
    "- Use the animate syntax for smooth transformations\n",
    "- Transform one mobject into another using the Transform animation\n",
    "- Apply multiple transformations simultaneously\n",
    "- Understand the difference between applying transformations in sequence vs. simultaneously\n",
    "\n",
    "## Prerequisites\n",
    "\n",
    "Before starting this tutorial, you should:\n",
    "\n",
    "- Have completed the beginner tutorials\n",
    "- Have a basic understanding of Manim's coordinate system\n",
    "- Be familiar with creating and displaying mobjects\n",
    "- Understand basic animation concepts in Manim\n",
    "\n",
    "## Introduction\n",
    "\n",
    "Transformations are essential for creating dynamic and engaging animations. In this tutorial, we'll explore how to apply various transformations to mobjects in Manim, including scaling, rotating, and moving. We'll also learn about the powerful Transform animation that can morph one object into another.\n",
    "\n",
    "## Step-by-Step Instructions\n",
    "\n",
    "### 1. Importing Manim\n",
    "\n",
    "As always, we start by importing the Manim library:"
   ]
  },
  {
   "cell_type": "code",
   "execution_count": null,
   "metadata": {},
   "outputs": [],
   "source": [
    "from manim import *"
   ]
  },
  {
   "cell_type": "markdown",
   "metadata": {},
   "source": [
    "### 2. Basic Transformations\n",
    "\n",
    "Let's start with basic transformations: scaling, rotating, and moving objects:"
   ]
  },
  {
   "cell_type": "code",
   "execution_count": null,
   "metadata": {},
   "outputs": [],
   "source": [
    "class BasicTransformations(Scene):\n",
    "    def construct(self):\n",
    "        # Create initial shapes\n",
    "        circle = Circle(fill_color=BLUE, fill_opacity=0.5)\n",
    "        square = Square(fill_color=GREEN, fill_opacity=0.5)\n",
    "        triangle = Triangle(fill_color=RED, fill_opacity=0.5)\n",
    "        \n",
    "        # Position the shapes\n",
    "        circle.shift(LEFT * 3)\n",
    "        triangle.shift(RIGHT * 3)\n",
    "        \n",
    "        # Display initial shapes\n",
    "        self.play(Create(circle), Create(square), Create(triangle))\n",
    "        self.wait(1)"
   ]
  },
  {
   "cell_type": "markdown",
   "metadata": {},
   "source": [
    "Let's render this scene to see our initial setup:"
   ]
  },
  {
   "cell_type": "code",
   "execution_count": null,
   "metadata": {},
   "outputs": [],
   "source": [
    "%%manim -pql BasicTransformations\n",
    "\n",
    "from manim import *\n",
    "\n",
    "class BasicTransformations(Scene):\n",
    "    def construct(self):\n",
    "        # Create initial shapes\n",
    "        circle = Circle(fill_color=BLUE, fill_opacity=0.5)\n",
    "        square = Square(fill_color=GREEN, fill_opacity=0.5)\n",
    "        triangle = Triangle(fill_color=RED, fill_opacity=0.5)\n",
    "        \n",
    "        # Position the shapes\n",
    "        circle.shift(LEFT * 3)\n",
    "        triangle.shift(RIGHT * 3)\n",
    "        \n",
    "        # Display initial shapes\n",
    "        self.play(Create(circle), Create(square), Create(triangle))\n",
    "        self.wait(1)"
   ]
  },
  {
   "cell_type": "markdown",
   "metadata": {},
   "source": [
    "### 3. Scaling Objects\n",
    "\n",
    "Let's scale the circle to make it larger:"
   ]
  },
  {
   "cell_type": "code",
   "execution_count": null,
   "metadata": {},
   "outputs": [],
   "source": [
    "class ScaleTransformation(Scene):\n",
    "    def construct(self):\n",
    "        # Create a circle\n",
    "        circle = Circle(fill_color=BLUE, fill_opacity=0.5)\n",
    "        \n",
    "        # Display the circle\n",
    "        self.play(Create(circle))\n",
    "        self.wait(1)\n",
    "        \n",
    "        # Scale the circle\n",
    "        self.play(circle.animate.scale(2))\n",
    "        self.wait(2)"
   ]
  },
  {
   "cell_type": "markdown",
   "metadata": {},
   "source": [
    "Let's render this scene:"
   ]
  },
  {
   "cell_type": "code",
   "execution_count": null,
   "metadata": {},
   "outputs": [],
   "source": [
    "%%manim -pql ScaleTransformation\n",
    "\n",
    "from manim import *\n",
    "\n",
    "class ScaleTransformation(Scene):\n",
    "    def construct(self):\n",
    "        # Create a circle\n",
    "        circle = Circle(fill_color=BLUE, fill_opacity=0.5)\n",
    "        \n",
    "        # Display the circle\n",
    "        self.play(Create(circle))\n",
    "        self.wait(1)\n",
    "        \n",
    "        # Scale the circle\n",
    "        self.play(circle.animate.scale(2))\n",
    "        self.wait(2)"
   ]
  },
  {
   "cell_type": "markdown",
   "metadata": {},
   "source": [
    "### 4. Rotating Objects\n",
    "\n",
    "Now let's rotate the square:"
   ]
  },
  {
   "cell_type": "code",
   "execution_count": null,
   "metadata": {},
   "outputs": [],
   "source": [
    "class RotateTransformation(Scene):\n",
    "    def construct(self):\n",
    "        # Create a square\n",
    "        square = Square(fill_color=GREEN, fill_opacity=0.5)\n",
    "        \n",
    "        # Display the square\n",
    "        self.play(Create(square))\n",
    "        self.wait(1)\n",
    "        \n",
    "        # Rotate the square\n",
    "        self.play(square.animate.rotate(PI/4))\n",
    "        self.wait(2)"
   ]
  },
  {
   "cell_type": "markdown",
   "metadata": {},
   "source": [
    "Let's render this scene:"
   ]
  },
  {
   "cell_type": "code",
   "execution_count": null,
   "metadata": {},
   "outputs": [],
   "source": [
    "%%manim -pql RotateTransformation\n",
    "\n",
    "from manim import *\n",
    "\n",
    "class RotateTransformation(Scene):\n",
    "    def construct(self):\n",
    "        # Create a square\n",
    "        square = Square(fill_color=GREEN, fill_opacity=0.5)\n",
    "        \n",
    "        # Display the square\n",
    "        self.play(Create(square))\n",
    "        self.wait(1)\n",
    "        \n",
    "        # Rotate the square\n",
    "        self.play(square.animate.rotate(PI/4))\n",
    "        self.wait(2)"
   ]
  },
  {
   "cell_type": "markdown",
   "metadata": {},
   "source": [
    "### 5. Moving Objects\n",
    "\n",
    "Let's move the triangle:"
   ]
  },
  {
   "cell_type": "code",
   "execution_count": null,
   "metadata": {},
   "outputs": [],
   "source": [
    "class MoveTransformation(Scene):\n",
    "    def construct(self):\n",
    "        # Create a triangle\n",
    "        triangle = Triangle(fill_color=RED, fill_opacity=0.5)\n",
    "        \n",
    "        # Display the triangle\n",
    "        self.play(Create(triangle))\n",
    "        self.wait(1)\n",
    "        \n",
    "        # Move the triangle\n",
    "        self.play(triangle.animate.shift(UP * 2))\n",
    "        self.wait(2)"
   ]
  },
  {
   "cell_type": "markdown",
   "metadata": {},
   "source": [
    "Let's render this scene:"
   ]
  },
  {
   "cell_type": "code",
   "execution_count": null,
   "metadata": {},
   "outputs": [],
   "source": [
    "%%manim -pql MoveTransformation\n",
    "\n",
    "from manim import *\n",
    "\n",
    "class MoveTransformation(Scene):\n",
    "    def construct(self):\n",
    "        # Create a triangle\n",
    "        triangle = Triangle(fill_color=RED, fill_opacity=0.5)\n",
    "        \n",
    "        # Display the triangle\n",
    "        self.play(Create(triangle))\n",
    "        self.wait(1)\n",
    "        \n",
    "        # Move the triangle\n",
    "        self.play(triangle.animate.shift(UP * 2))\n",
    "        self.wait(2)"
   ]
  },
  {
   "cell_type": "markdown",
   "metadata": {},
   "source": [
    "### 6. Transforming One Object Into Another\n",
    "\n",
    "One of the most powerful features in Manim is the ability to transform one object into another:"
   ]
  },
  {
   "cell_type": "code",
   "execution_count": null,
   "metadata": {},
   "outputs": [],
   "source": [
    "class MorphTransformation(Scene):\n",
    "    def construct(self):\n",
    "        # Create initial shapes\n",
    "        square = Square(fill_color=GREEN, fill_opacity=0.5)\n",
    "        circle = Circle(radius=1, fill_color=YELLOW, fill_opacity=0.5)\n",
    "        circle.shift(RIGHT * 3)\n",
    "        \n",
    "        # Display the square\n",
    "        self.play(Create(square))\n",
    "        self.wait(1)\n",
    "        \n",
    "        # Transform square to circle\n",
    "        self.play(Transform(square, circle))\n",
    "        self.wait(2)"
   ]
  },
  {
   "cell_type": "markdown",
   "metadata": {},
   "source": [
    "Let's render this scene:"
   ]
  },
  {
   "cell_type": "code",
   "execution_count": null,
   "metadata": {},
   "outputs": [],
   "source": [
    "%%manim -pql MorphTransformation\n",
    "\n",
    "from manim import *\n",
    "\n",
    "class MorphTransformation(Scene):\n",
    "    def construct(self):\n",
    "        # Create initial shapes\n",
    "        square = Square(fill_color=GREEN, fill_opacity=0.5)\n",
    "        circle = Circle(radius=1, fill_color=YELLOW, fill_opacity=0.5)\n",
    "        circle.shift(RIGHT * 3)\n",
    "        \n",
    "        # Display the square\n",
    "        self.play(Create(square))\n",
    "        self.wait(1)\n",
    "        \n",
    "        # Transform square to circle\n",
    "        self.play(Transform(square, circle))\n",
    "        self.wait(2)"
   ]
  },
  {
   "cell_type": "markdown",
   "metadata": {},
   "source": [
    "### 7. Applying Multiple Transformations\n",
    "\n",
    "We can apply multiple transformations to objects simultaneously:"
   ]
  },
  {
   "cell_type": "code",
   "execution_count": null,
   "metadata": {},
   "outputs": [],
   "source": [
    "class MultipleTransformations(Scene):\n",
    "    def construct(self):\n",
    "        # Create initial shapes\n",
    "        circle = Circle(fill_color=BLUE, fill_opacity=0.5)\n",
    "        square = Square(fill_color=GREEN, fill_opacity=0.5)\n",
    "        triangle = Triangle(fill_color=RED, fill_opacity=0.5)\n",
    "        \n",
    "        # Position the shapes\n",
    "        circle.shift(LEFT * 3)\n",
    "        triangle.shift(RIGHT * 3)\n",
    "        \n",
    "        # Display initial shapes\n",
    "        self.play(Create(circle), Create(square), Create(triangle))\n",
    "        self.wait(1)\n",
    "        \n",
    "        # Apply multiple transformations at once\n",
    "        self.play(\n",
    "            circle.animate.shift(DOWN * 2).set_color(PURPLE),\n",
    "            triangle.animate.shift(DOWN * 2).rotate(PI/2),\n",
    "            square.animate.shift(DOWN * 2).scale(0.5)\n",
    "        )\n",
    "        self.wait(2)"
   ]
  },
  {
   "cell_type": "markdown",
   "metadata": {},
   "source": [
    "Let's render this scene:"
   ]
  },
  {
   "cell_type": "code",
   "execution_count": null,
   "metadata": {},
   "outputs": [],
   "source": [
    "%%manim -pql MultipleTransformations\n",
    "\n",
    "from manim import *\n",
    "\n",
    "class MultipleTransformations(Scene):\n",
    "    def construct(self):\n",
    "        # Create initial shapes\n",
    "        circle = Circle(fill_color=BLUE, fill_opacity=0.5)\n",
    "        square = Square(fill_color=GREEN, fill_opacity=0.5)\n",
    "        triangle = Triangle(fill_color=RED, fill_opacity=0.5)\n",
    "        \n",
    "        # Position the shapes\n",
    "        circle.shift(LEFT * 3)\n",
    "        triangle.shift(RIGHT * 3)\n",
    "        \n",
    "        # Display initial shapes\n",
    "        self.play(Create(circle), Create(square), Create(triangle))\n",
    "        self.wait(1)\n",
    "        \n",
    "        # Apply multiple transformations at once\n",
    "        self.play(\n",
    "            circle.animate.shift(DOWN * 2).set_color(PURPLE),\n",
    "            triangle.animate.shift(DOWN * 2).rotate(PI/2),\n",
    "            square.animate.shift(DOWN * 2).scale(0.5)\n",
    "        )\n",
    "        self.wait(2)"
   ]
  },
  {
   "cell_type": "markdown",
   "metadata": {},
   "source": [
    "## Interactive Elements\n",
    "\n",
    "Try modifying the code above to:\n",
    "\n",
    "1. Change the scale factors for the scaling transformations\n",
    "2. Try different rotation angles\n",
    "3. Experiment with different movement directions\n",
    "4. Try transforming different shapes into each other\n",
    "\n",
    "## Coding Exercises\n",
    "\n",
    "### Exercise 1: Create a Transformation Sequence\n",
    "\n",
    "Create a scene that applies a sequence of transformations to a square:\n",
    "1. Scale it by 1.5\n",
    "2. Rotate it by 45 degrees\n",
    "3. Move it 2 units to the right"
   ]
  },
  {
   "cell_type": "code",
   "execution_count": null,
   "metadata": {},
   "outputs": [],
   "source": [
    "# Your solution here\n",
    "\n",
    "square = Square(fill_color=BLUE, fill_opacity=0.5)\n",
    "\n",
    "# Apply transformations in sequence\n",
    "self.play(square.animate.scale(1.5))\n",
    "self.play(square.animate.rotate(PI/4))\n",
    "self.play(square.animate.shift(RIGHT * 2))"
   ]
  },
  {
   "cell_type": "markdown",
   "metadata": {},
   "source": [
    "### Exercise 2: Transform Text\n",
    "\n",
    "Create a scene that transforms the word \"Hello\" into \"World\":"
   ]
  },
  {
   "cell_type": "code",
   "execution_count": null,
   "metadata": {},
   "outputs": [],
   "source": [
    "%%manim -pql TextTransformation\n",
    "\n",
    "from manim import *\n",
    "\n",
    "class TextTransformation(Scene):\n",
    "    def construct(self):\n",
    "        # Your code here\n",
    "        pass"
   ]
  },
  {
   "cell_type": "markdown",
   "metadata": {},
   "source": [
    "## Summary\n",
    "\n",
    "In this tutorial, we've learned:\n",
    "\n",
    "- How to apply basic transformations (scale, rotate, move) to mobjects\n",
    "- How to use the animate syntax for smooth transformations\n",
    "- How to transform one mobject into another using the Transform animation\n",
    "- How to apply multiple transformations simultaneously\n",
    "- The difference between applying transformations in sequence vs. simultaneously\n",
    "\n",
    "## Further Reading\n",
    "\n",
    "- [Manim Documentation - Animation Reference](https://docs.manim.community/en/stable/reference.html#animations)\n",
    "- [Manim Community GitHub](https://github.com/ManimCommunity/manim)\n",
    "- Next tutorial: Updaters"
   ]
  }
 ],
 "metadata": {
  "kernelspec": {
   "display_name": "Python 3",
   "language": "python",
   "name": "python3"
  },
  "language_info": {
   "name": "python",
   "version": "3.8.0"
  }
 },
 "nbformat": 4,
 "nbformat_minor": 4
}