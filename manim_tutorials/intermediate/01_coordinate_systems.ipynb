{
 "cells": [
  {
   "cell_type": "markdown",
   "metadata": {},
   "source": [
    "# Coordinate Systems in Manim\n",
    "\n",
    "## Learning Objectives\n",
    "\n",
    "By the end of this tutorial, you will be able to:\n",
    "\n",
    "- Understand and use NumberPlane and Axes coordinate systems\n",
    "- Plot functions on coordinate systems\n",
    "- Add coordinates and labels to your graphs\n",
    "- Create points on graphs and label them\n",
    "- Transform between different coordinate systems\n",
    "\n",
    "## Prerequisites\n",
    "\n",
    "Before starting this tutorial, you should:\n",
    "\n",
    "- Have completed the beginner tutorials (Getting Started, Basic Shapes, Simple Animations)\n",
    "- Understand basic Manim scene structure\n",
    "- Be familiar with creating and animating mobjects\n",
    "- Have a basic understanding of mathematical functions\n",
    "\n",
    "## Introduction\n",
    "\n",
    "Coordinate systems are fundamental in creating mathematical visualizations. In this tutorial, we'll explore how to use Manim's coordinate systems to create graphs, plot functions, and visualize mathematical relationships. We'll learn about NumberPlane and Axes, how to customize them, and how to use them effectively in our animations.\n",
    "\n",
    "## Step-by-Step Instructions\n",
    "\n",
    "### 1. Importing Manim\n",
    "\n",
    "As always, we start by importing the Manim library:"
   ]
  },
  {
   "cell_type": "code",
   "execution_count": null,
   "metadata": {},
   "outputs": [],
   "source": [
    "from manim import *"
   ]
  },
  {
   "cell_type": "markdown",
   "metadata": {},
   "source": [
    "### 2. Creating a NumberPlane\n",
    "\n",
    "Let's start by creating a basic NumberPlane, which is a grid with x and y axes:"
   ]
  },
  {
   "cell_type": "code",
   "execution_count": null,
   "metadata": {},
   "outputs": [],
   "source": [
    "class NumberPlaneExample(Scene):\n",
    "    def construct(self):\n",
    "        # Create a number plane\n",
    "        plane = NumberPlane()\n",
    "        plane.add_coordinates()\n",
    "        \n",
    "        # Display the number plane\n",
    "        self.play(Create(plane), run_time=2)\n",
    "        self.wait(2)"
   ]
  },
  {
   "cell_type": "markdown",
   "metadata": {},
   "source": [
    "Let's render this scene to see the number plane:"
   ]
  },
  {
   "cell_type": "code",
   "execution_count": null,
   "metadata": {},
   "outputs": [],
   "source": [
    "%%manim -pql NumberPlaneExample\n",
    "\n",
    "from manim import *\n",
    "\n",
    "class NumberPlaneExample(Scene):\n",
    "    def construct(self):\n",
    "        # Create a number plane\n",
    "        plane = NumberPlane()\n",
    "        plane.add_coordinates()\n",
    "        \n",
    "        # Display the number plane\n",
    "        self.play(Create(plane), run_time=2)\n",
    "        self.wait(2)"
   ]
  },
  {
   "cell_type": "markdown",
   "metadata": {},
   "source": [
    "### 3. Customizing Axes\n",
    "\n",
    "We can create more customized axes with specific ranges and colors:"
   ]
  },
  {
   "cell_type": "code",
   "execution_count": null,
   "metadata": {},
   "outputs": [],
   "source": [
    "class CustomAxesExample(Scene):\n",
    "    def construct(self):\n",
    "        # Create axes\n",
    "        axes = Axes(\n",
    "            x_range=[-5, 5, 1],\n",
    "            y_range=[-3, 3, 1],\n",
    "            axis_config={\"color\": BLUE},\n",
    "        )\n",
    "        \n",
    "        # Add labels to axes\n",
    "        axes_labels = axes.get_axis_labels(x_label=\"x\", y_label=\"y\")\n",
    "        \n",
    "        # Display the axes\n",
    "        self.play(Create(axes), run_time=2)\n",
    "        self.play(Write(axes_labels))\n",
    "        self.wait(2)"
   ]
  },
  {
   "cell_type": "markdown",
   "metadata": {},
   "source": [
    "Let's render this scene:"
   ]
  },
  {
   "cell_type": "code",
   "execution_count": null,
   "metadata": {},
   "outputs": [],
   "source": [
    "%%manim -pql CustomAxesExample\n",
    "\n",
    "from manim import *\n",
    "\n",
    "class CustomAxesExample(Scene):\n",
    "    def construct(self):\n",
    "        # Create axes\n",
    "        axes = Axes(\n",
    "            x_range=[-5, 5, 1],\n",
    "            y_range=[-3, 3, 1],\n",
    "            axis_config={\"color\": BLUE},\n",
    "        )\n",
    "        \n",
    "        # Add labels to axes\n",
    "        axes_labels = axes.get_axis_labels(x_label=\"x\", y_label=\"y\")\n",
    "        \n",
    "        # Display the axes\n",
    "        self.play(Create(axes), run_time=2)\n",
    "        self.play(Write(axes_labels))\n",
    "        self.wait(2)"
   ]
  },
  {
   "cell_type": "markdown",
   "metadata": {},
   "source": [
    "### 4. Plotting Functions\n",
    "\n",
    "Now let's plot a function on our axes:"
   ]
  },
  {
   "cell_type": "code",
   "execution_count": null,
   "metadata": {},
   "outputs": [],
   "source": [
    "class FunctionPlotExample(Scene):\n",
    "    def construct(self):\n",
    "        # Create axes\n",
    "        axes = Axes(\n",
    "            x_range=[-3, 3, 1],\n",
    "            y_range=[-1, 9, 1],\n",
    "            axis_config={\"color\": BLUE},\n",
    "        )\n",
    "        \n",
    "        # Add labels to axes\n",
    "        axes_labels = axes.get_axis_labels(x_label=\"x\", y_label=\"y\")\n",
    "        \n",
    "        # Create a function graph\n",
    "        graph = axes.plot(lambda x: x**2, color=GREEN)\n",
    "        graph_label = axes.get_graph_label(graph, label=\"y = x^2\")\n",
    "        \n",
    "        # Display the axes\n",
    "        self.play(Create(axes), run_time=2)\n",
    "        self.play(Write(axes_labels))\n",
    "        self.wait(1)\n",
    "        \n",
    "        # Plot the function\n",
    "        self.play(Create(graph), run_time=3)\n",
    "        self.play(Write(graph_label))\n",
    "        self.wait(2)"
   ]
  },
  {
   "cell_type": "markdown",
   "metadata": {},
   "source": [
    "Let's render this scene:"
   ]
  },
  {
   "cell_type": "code",
   "execution_count": null,
   "metadata": {},
   "outputs": [],
   "source": [
    "%%manim -pql FunctionPlotExample\n",
    "\n",
    "from manim import *\n",
    "\n",
    "class FunctionPlotExample(Scene):\n",
    "    def construct(self):\n",
    "        # Create axes\n",
    "        axes = Axes(\n",
    "            x_range=[-3, 3, 1],\n",
    "            y_range=[-1, 9, 1],\n",
    "            axis_config={\"color\": BLUE},\n",
    "        )\n",
    "        \n",
    "        # Add labels to axes\n",
    "        axes_labels = axes.get_axis_labels(x_label=\"x\", y_label=\"y\")\n",
    "        \n",
    "        # Create a function graph\n",
    "        graph = axes.plot(lambda x: x**2, color=GREEN)\n",
    "        graph_label = axes.get_graph_label(graph, label=\"y = x^2\")\n",
    "        \n",
    "        # Display the axes\n",
    "        self.play(Create(axes), run_time=2)\n",
    "        self.play(Write(axes_labels))\n",
    "        self.wait(1)\n",
    "        \n",
    "        # Plot the function\n",
    "        self.play(Create(graph), run_time=3)\n",
    "        self.play(Write(graph_label))\n",
    "        self.wait(2)"
   ]
  },
  {
   "cell_type": "markdown",
   "metadata": {},
   "source": [
    "### 5. Adding Points to Graphs\n",
    "\n",
    "We can add specific points to our graphs and label them:"
   ]
  },
  {
   "cell_type": "code",
   "execution_count": null,
   "metadata": {},
   "outputs": [],
   "source": [
    "class PointOnGraphExample(Scene):\n",
    "    def construct(self):\n",
    "        # Create axes\n",
    "        axes = Axes(\n",
    "            x_range=[-3, 3, 1],\n",
    "            y_range=[-1, 9, 1],\n",
    "            axis_config={\"color\": BLUE},\n",
    "        )\n",
    "        \n",
    "        # Add labels to axes\n",
    "        axes_labels = axes.get_axis_labels(x_label=\"x\", y_label=\"y\")\n",
    "        \n",
    "        # Create a function graph\n",
    "        graph = axes.plot(lambda x: x**2, color=GREEN)\n",
    "        graph_label = axes.get_graph_label(graph, label=\"y = x^2\")\n",
    "        \n",
    "        # Create a point on the graph\n",
    "        dot = Dot(axes.c2p(2, 4), color=YELLOW)\n",
    "        dot_label = Text(\"Point (2, 4)\", font_size=24).next_to(dot, UP)\n",
    "        \n",
    "        # Display the axes\n",
    "        self.play(Create(axes), run_time=2)\n",
    "        self.play(Write(axes_labels))\n",
    "        self.wait(1)\n",
    "        \n",
    "        # Plot the function\n",
    "        self.play(Create(graph), run_time=3)\n",
    "        self.play(Write(graph_label))\n",
    "        self.wait(1)\n",
    "        \n",
    "        # Add the point\n",
    "        self.play(Create(dot))\n",
    "        self.play(Write(dot_label))\n",
    "        self.wait(2)"
   ]
  },
  {
   "cell_type": "markdown",
   "metadata": {},
   "source": [
    "Let's render this scene:"
   ]
  },
  {
   "cell_type": "code",
   "execution_count": null,
   "metadata": {},
   "outputs": [],
   "source": [
    "%%manim -pql PointOnGraphExample\n",
    "\n",
    "from manim import *\n",
    "\n",
    "class PointOnGraphExample(Scene):\n",
    "    def construct(self):\n",
    "        # Create axes\n",
    "        axes = Axes(\n",
    "            x_range=[-3, 3, 1],\n",
    "            y_range=[-1, 9, 1],\n",
    "            axis_config={\"color\": BLUE},\n",
    "        )\n",
    "        \n",
    "        # Add labels to axes\n",
    "        axes_labels = axes.get_axis_labels(x_label=\"x\", y_label=\"y\")\n",
    "        \n",
    "        # Create a function graph\n",
    "        graph = axes.plot(lambda x: x**2, color=GREEN)\n",
    "        graph_label = axes.get_graph_label(graph, label=\"y = x^2\")\n",
    "        \n",
    "        # Create a point on the graph\n",
    "        dot = Dot(axes.c2p(2, 4), color=YELLOW)\n",
    "        dot_label = Text(\"Point (2, 4)\", font_size=24).next_to(dot, UP)\n",
    "        \n",
    "        # Display the axes\n",
    "        self.play(Create(axes), run_time=2)\n",
    "        self.play(Write(axes_labels))\n",
    "        self.wait(1)\n",
    "        \n",
    "        # Plot the function\n",
    "        self.play(Create(graph), run_time=3)\n",
    "        self.play(Write(graph_label))\n",
    "        self.wait(1)\n",
    "        \n",
    "        # Add the point\n",
    "        self.play(Create(dot))\n",
    "        self.play(Write(dot_label))\n",
    "        self.wait(2)"
   ]
  },
  {
   "cell_type": "markdown",
   "metadata": {},
   "source": [
    "### 6. Transforming Between Coordinate Systems\n",
    "\n",
    "We can also transform between different coordinate systems:"
   ]
  },
  {
   "cell_type": "code",
   "execution_count": null,
   "metadata": {},
   "outputs": [],
   "source": [
    "class CoordinateSystemTransform(Scene):\n",
    "    def construct(self):\n",
    "        # Create a number plane\n",
    "        plane = NumberPlane()\n",
    "        plane.add_coordinates()\n",
    "        \n",
    "        # Create axes\n",
    "        axes = Axes(\n",
    "            x_range=[-5, 5, 1],\n",
    "            y_range=[-3, 3, 1],\n",
    "            axis_config={\"color\": BLUE},\n",
    "        )\n",
    "        \n",
    "        # Add labels to axes\n",
    "        axes_labels = axes.get_axis_labels(x_label=\"x\", y_label=\"y\")\n",
    "        \n",
    "        # Display the number plane\n",
    "        self.play(Create(plane), run_time=2)\n",
    "        self.wait(1)\n",
    "        \n",
    "        # Transform to axes\n",
    "        self.play(Transform(plane, axes), run_time=2)\n",
    "        self.play(Write(axes_labels))\n",
    "        self.wait(2)"
   ]
  },
  {
   "cell_type": "markdown",
   "metadata": {},
   "source": [
    "Let's render this scene:"
   ]
  },
  {
   "cell_type": "code",
   "execution_count": null,
   "metadata": {},
   "outputs": [],
   "source": [
    "%%manim -pql CoordinateSystemTransform\n",
    "\n",
    "from manim import *\n",
    "\n",
    "class CoordinateSystemTransform(Scene):\n",
    "    def construct(self):\n",
    "        # Create a number plane\n",
    "        plane = NumberPlane()\n",
    "        plane.add_coordinates()\n",
    "        \n",
    "        # Create axes\n",
    "        axes = Axes(\n",
    "            x_range=[-5, 5, 1],\n",
    "            y_range=[-3, 3, 1],\n",
    "            axis_config={\"color\": BLUE},\n",
    "        )\n",
    "        \n",
    "        # Add labels to axes\n",
    "        axes_labels = axes.get_axis_labels(x_label=\"x\", y_label=\"y\")\n",
    "        \n",
    "        # Display the number plane\n",
    "        self.play(Create(plane), run_time=2)\n",
    "        self.wait(1)\n",
    "        \n",
    "        # Transform to axes\n",
    "        self.play(Transform(plane, axes), run_time=2)\n",
    "        self.play(Write(axes_labels))\n",
    "        self.wait(2)"
   ]
  },
  {
   "cell_type": "markdown",
   "metadata": {},
   "source": [
    "## Interactive Elements\n",
    "\n",
    "Try modifying the code above to:\n",
    "\n",
    "1. Change the function being plotted (try `x**3` or `np.sin(x)`)\n",
    "2. Adjust the axis ranges\n",
    "3. Add more points to the graph\n",
    "4. Change the colors of the graphs and points\n",
    "\n",
    "## Coding Exercises\n",
    "\n",
    "### Exercise 1: Plot a Sine Wave\n",
    "\n",
    "Create a scene that plots a sine wave with labeled axes and a specific point on the wave:"
   ]
  },
  {
   "cell_type": "code",
   "execution_count": null,
   "metadata": {},
   "outputs": [],
   "source": [
    "# Your solution here\n",
    "\n",
    "axes = Axes(\n",
    "    x_range=[-2*PI, 2*PI, PI/2],\n",
    "    y_range=[-1.5, 1.5, 0.5],\n",
    "    axis_config={\"color\": BLUE},\n",
    ")\n",
    "\n",
    "# Add labels\n",
    "axes_labels = axes.get_axis_labels(x_label=\"x\", y_label=\"y\")\n",
    "\n",
    "# Create sine wave\n",
    "sin_graph = axes.plot(lambda x: np.sin(x), color=RED)\n",
    "sin_label = axes.get_graph_label(sin_graph, label=\"y = sin(x)\")\n",
    "\n",
    "# Add a point at (PI/2, 1)\n",
    "dot = Dot(axes.c2p(PI/2, 1), color=YELLOW)\n",
    "dot_label = Text(\"(π/2, 1)\", font_size=24).next_to(dot, UP)"
   ]
  },
  {
   "cell_type": "markdown",
   "metadata": {},
   "source": [
    "### Exercise 2: Create a Custom Coordinate System\n",
    "\n",
    "Create a scene with a custom coordinate system that plots a quadratic function with multiple points:"
   ]
  },
  {
   "cell_type": "code",
   "execution_count": null,
   "metadata": {},
   "outputs": [],
   "source": [
    "%%manim -pql CustomCoordinateSystem\n",
    "\n",
    "from manim import *\n",
    "\n",
    "class CustomCoordinateSystem(Scene):\n",
    "    def construct(self):\n",
    "        # Your code here\n",
    "        pass"
   ]
  },
  {
   "cell_type": "markdown",
   "metadata": {},
   "source": [
    "## Summary\n",
    "\n",
    "In this tutorial, we've learned:\n",
    "\n",
    "- How to create and customize NumberPlane and Axes coordinate systems\n",
    "- How to plot mathematical functions on coordinate systems\n",
    "- How to add labels and coordinates to graphs\n",
    "- How to place points on graphs and label them\n",
    "- How to transform between different coordinate systems\n",
    "\n",
    "## Further Reading\n",
    "\n",
    "- [Manim Documentation - Coordinate System Reference](https://docs.manim.community/en/stable/reference.html#coordinate-systems)\n",
    "- [Manim Community GitHub](https://github.com/ManimCommunity/manim)\n",
    "- Next tutorial: Transformations"
   ]
  }
 ],
 "metadata": {
  "kernelspec": {
   "display_name": "Python 3",
   "language": "python",
   "name": "python3"
  },
  "language_info": {
   "name": "python",
   "version": "3.8.0"
  }
 },
 "nbformat": 4,
 "nbformat_minor": 4
}