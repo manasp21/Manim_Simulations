{
 "cells": [
  {
   "cell_type": "markdown",
   "metadata": {},
   "source": [
    "# Updaters in Manim\n",
    "\n",
    "## Learning Objectives\n",
    "\n",
    "By the end of this tutorial, you will be able to:\n",
    "\n",
    "- Understand what updaters are and how they work\n",
    "- Create updaters that modify mobjects based on their state\n",
    "- Use updaters to create dynamic animations\n",
    "- Add and remove updaters from mobjects\n",
    "- Create complex animations using multiple updaters\n",
    "\n",
    "## Prerequisites\n",
    "\n",
    "Before starting this tutorial, you should:\n",
    "\n",
    "- Have completed the beginner tutorials\n",
    "- Understand basic Manim scene structure\n",
    "- Be familiar with creating and animating mobjects\n",
    "- Have a basic understanding of transformations\n",
    "\n",
    "## Introduction\n",
    "\n",
    "Updaters are functions that are called every frame to update the properties of mobjects. They're essential for creating dynamic animations where objects change based on the state of other objects or the passage of time. In this tutorial, we'll explore how to use updaters to create more complex and interactive animations.\n",
    "\n",
    "## Step-by-Step Instructions\n",
    "\n",
    "### 1. Importing Manim\n",
    "\n",
    "As always, we start by importing the Manim library:"
   ]
  },
  {
   "cell_type": "code",
   "execution_count": null,
   "metadata": {},
   "outputs": [],
   "source": [
    "from manim import *"
   ]
  },
  {
   "cell_type": "markdown",
   "metadata": {},
   "source": [
    "### 2. Understanding Updaters\n",
    "\n",
    "An updater is a function that is called every frame to update a mobject. Let's create a simple updater that keeps text positioned above a moving dot:"
   ]
  },
  {
   "cell_type": "code",
   "execution_count": null,
   "metadata": {},
   "outputs": [],
   "source": [
    "class UpdaterExample(Scene):\n",
    "    def construct(self):\n",
    "        # Create a moving dot\n",
    "        dot = Dot(color=RED)\n",
    "        \n",
    "        # Create a text that follows the dot\n",
    "        label = Text(\"Moving Dot\", font_size=24)\n",
    "        label.add_updater(lambda m: m.next_to(dot, UP))\n",
    "        \n",
    "        # Add objects to scene\n",
    "        self.add(dot, label)\n",
    "        \n",
    "        # Move the dot in a square path\n",
    "        self.play(dot.animate.shift(RIGHT * 2), run_time=2)\n",
    "        self.play(dot.animate.shift(UP * 2), run_time=2)\n",
    "        self.play(dot.animate.shift(LEFT * 2), run_time=2)\n",
    "        self.play(dot.animate.shift(DOWN * 2), run_time=2)\n",
    "        \n",
    "        self.wait(2)"
   ]
  },
  {
   "cell_type": "markdown",
   "metadata": {},
   "source": [
    "Let's render this scene to see the updater in action:"
   ]
  },
  {
   "cell_type": "code",
   "execution_count": null,
   "metadata": {},
   "outputs": [],
   "source": [
    "%%manim -pql UpdaterExample\n",
    "\n",
    "from manim import *\n",
    "\n",
    "class UpdaterExample(Scene):\n",
    "    def construct(self):\n",
    "        # Create a moving dot\n",
    "        dot = Dot(color=RED)\n",
    "        \n",
    "        # Create a text that follows the dot\n",
    "        label = Text(\"Moving Dot\", font_size=24)\n",
    "        label.add_updater(lambda m: m.next_to(dot, UP))\n",
    "        \n",
    "        # Add objects to scene\n",
    "        self.add(dot, label)\n",
    "        \n",
    "        # Move the dot in a square path\n",
    "        self.play(dot.animate.shift(RIGHT * 2), run_time=2)\n",
    "        self.play(dot.animate.shift(UP * 2), run_time=2)\n",
    "        self.play(dot.animate.shift(LEFT * 2), run_time=2)\n",
    "        self.play(dot.animate.shift(DOWN * 2), run_time=2)\n",
    "        \n",
    "        self.wait(2)"
   ]
  },
  {
   "cell_type": "markdown",
   "metadata": {},
   "source": [
    "### 3. Adding and Removing Updaters\n",
    "\n",
    "We can add updaters to mobjects and remove them when we no longer need them:"
   ]
  },
  {
   "cell_type": "code",
   "execution_count": null,
   "metadata": {},
   "outputs": [],
   "source": [
    "class AddRemoveUpdater(Scene):\n",
    "    def construct(self):\n",
    "        # Create a moving dot\n",
    "        dot = Dot(color=RED)\n",
    "        \n",
    "        # Create a text that follows the dot\n",
    "        label = Text(\"Moving Dot\", font_size=24)\n",
    "        label.add_updater(lambda m: m.next_to(dot, UP))\n",
    "        \n",
    "        # Add objects to scene\n",
    "        self.add(dot, label)\n",
    "        \n",
    "        # Move the dot\n",
    "        self.play(dot.animate.shift(RIGHT * 2), run_time=2)\n",
    "        \n",
    "        # Remove the updater\n",
    "        label.clear_updaters()\n",
    "        \n",
    "        # Move the dot again - label stays in place\n",
    "        self.play(dot.animate.shift(UP * 2), run_time=2)\n",
    "        \n",
    "        self.wait(2)"
   ]
  },
  {
   "cell_type": "markdown",
   "metadata": {},
   "source": [
    "Let's render this scene:"
   ]
  },
  {
   "cell_type": "code",
   "execution_count": null,
   "metadata": {},
   "outputs": [],
   "source": [
    "%%manim -pql AddRemoveUpdater\n",
    "\n",
    "from manim import *\n",
    "\n",
    "class AddRemoveUpdater(Scene):\n",
    "    def construct(self):\n",
    "        # Create a moving dot\n",
    "        dot = Dot(color=RED)\n",
    "        \n",
    "        # Create a text that follows the dot\n",
    "        label = Text(\"Moving Dot\", font_size=24)\n",
    "        label.add_updater(lambda m: m.next_to(dot, UP))\n",
    "        \n",
    "        # Add objects to scene\n",
    "        self.add(dot, label)\n",
    "        \n",
    "        # Move the dot\n",
    "        self.play(dot.animate.shift(RIGHT * 2), run_time=2)\n",
    "        \n",
    "        # Remove the updater\n",
    "        label.clear_updaters()\n",
    "        \n",
    "        # Move the dot again - label stays in place\n",
    "        self.play(dot.animate.shift(UP * 2), run_time=2)\n",
    "        \n",
    "        self.wait(2)"
   ]
  },
  {
   "cell_type": "markdown",
   "metadata": {},
   "source": [
    "### 4. Updaters with Multiple Objects\n",
    "\n",
    "We can use updaters to create relationships between multiple objects:"
   ]
  },
  {
   "cell_type": "code",
   "execution_count": null,
   "metadata": {},
   "outputs": [],
   "source": [
    "class MultipleObjectsUpdater(Scene):\n",
    "    def construct(self):\n",
    "        # Create a rotating square with a dot\n",
    "        square = Square(color=BLUE)\n",
    "        dot = Dot(color=YELLOW)\n",
    "        dot.move_to(square.get_right())\n",
    "        \n",
    "        # Define updater for dot to move with square\n",
    "        dot.add_updater(lambda d: d.move_to(square.get_right()))\n",
    "        \n",
    "        self.play(Create(square))\n",
    "        self.add(dot)\n",
    "        \n",
    "        # Rotate the square\n",
    "        self.play(Rotate(square, PI * 2), run_time=4)\n",
    "        self.wait(1)\n",
    "        \n",
    "        # Remove updater and move dot independently\n",
    "        dot.clear_updaters()\n",
    "        self.play(dot.animate.shift(UP * 2))\n",
    "        self.wait(2)"
   ]
  },
  {
   "cell_type": "markdown",
   "metadata": {},
   "source": [
    "Let's render this scene:"
   ]
  },
  {
   "cell_type": "code",
   "execution_count": null,
   "metadata": {},
   "outputs": [],
   "source": [
    "%%manim -pql MultipleObjectsUpdater\n",
    "\n",
    "from manim import *\n",
    "\n",
    "class MultipleObjectsUpdater(Scene):\n",
    "    def construct(self):\n",
    "        # Create a rotating square with a dot\n",
    "        square = Square(color=BLUE)\n",
    "        dot = Dot(color=YELLOW)\n",
    "        dot.move_to(square.get_right())\n",
    "        \n",
    "        # Define updater for dot to move with square\n",
    "        dot.add_updater(lambda d: d.move_to(square.get_right()))\n",
    "        \n",
    "        self.play(Create(square))\n",
    "        self.add(dot)\n",
    "        \n",
    "        # Rotate the square\n",
    "        self.play(Rotate(square, PI * 2), run_time=4)\n",
    "        self.wait(1)\n",
    "        \n",
    "        # Remove updater and move dot independently\n",
    "        dot.clear_updaters()\n",
    "        self.play(dot.animate.shift(UP * 2))\n",
    "        self.wait(2)"
   ]
  },
  {
   "cell_type": "markdown",
   "metadata": {},
   "source": [
    "### 5. Complex Updater Functions\n",
    "\n",
    "Updaters can contain more complex logic, including mathematical calculations:"
   ]
  },
  {
   "cell_type": "code",
   "execution_count": null,
   "metadata": {},
   "outputs": [],
   "source": [
    "class ComplexUpdater(Scene):\n",
    "    def construct(self):\n",
    "        # Create a circle\n",
    "        circle = Circle(radius=1, color=BLUE)\n",
    "        \n",
    "        # Create a dot that moves around the circle\n",
    "        dot = Dot(color=YELLOW)\n",
    "        \n",
    "        # Create a label that shows the angle\n",
    "        angle_label = DecimalNumber(0, num_decimal_places=2, include_sign=True)\n",
    "        angle_label.add_updater(lambda d: d.set_value(dot.get_angle() / DEGREES))\n",
    "        angle_text = Tex(\"Angle: \").next_to(angle_label, LEFT)\n",
    "        angle_group = VGroup(angle_text, angle_label).to_corner(UL)\n",
    "        \n",
    "        # Position the dot on the circle\n",
    "        dot.add_updater(lambda d: d.move_to(circle.point_at_angle(dot.get_angle())))\n",
    "        \n",
    "        # Add objects to scene\n",
    "        self.add(circle, dot, angle_group)\n",
    "        \n",
    "        # Animate the dot moving around the circle\n",
    "        self.play(dot.animate.set_angle(2 * PI), run_time=4, rate_func=linear)\n",
    "        self.wait(2)"
   ]
  },
  {
   "cell_type": "markdown",
   "metadata": {},
   "source": [
    "Let's render this scene:"
   ]
  },
  {
   "cell_type": "code",
   "execution_count": null,
   "metadata": {},
   "outputs": [],
   "source": [
    "%%manim -pql ComplexUpdater\n",
    "\n",
    "from manim import *\n",
    "\n",
    "class ComplexUpdater(Scene):\n",
    "    def construct(self):\n",
    "        # Create a circle\n",
    "        circle = Circle(radius=1, color=BLUE)\n",
    "        \n",
    "        # Create a dot that moves around the circle\n",
    "        dot = Dot(color=YELLOW)\n",
    "        \n",
    "        # Create a label that shows the angle\n",
    "        angle_label = DecimalNumber(0, num_decimal_places=2, include_sign=True)\n",
    "        angle_label.add_updater(lambda d: d.set_value(dot.get_angle() / DEGREES))\n",
    "        angle_text = Tex(\"Angle: \").next_to(angle_label, LEFT)\n",
    "        angle_group = VGroup(angle_text, angle_label).to_corner(UL)\n",
    "        \n",
    "        # Position the dot on the circle\n",
    "        dot.add_updater(lambda d: d.move_to(circle.point_at_angle(dot.get_angle())))\n",
    "        \n",
    "        # Add objects to scene\n",
    "        self.add(circle, dot, angle_group)\n",
    "        \n",
    "        # Animate the dot moving around the circle\n",
    "        self.play(dot.animate.set_angle(2 * PI), run_time=4, rate_func=linear)\n",
    "        self.wait(2)"
   ]
  },
  {
   "cell_type": "markdown",
   "metadata": {},
   "source": [
    "### 6. Multiple Updaters on One Object\n",
    "\n",
    "We can attach multiple updaters to a single object:"
   ]
  },
  {
   "cell_type": "code",
   "execution_count": null,
   "metadata": {},
   "outputs": [],
   "source": [
    "class MultipleUpdaters(Scene):\n",
    "    def construct(self):\n",
    "        # Create a dot\n",
    "        dot = Dot(color=YELLOW)\n",
    "        \n",
    "        # Create a label that follows the dot\n",
    "        label = Text(\"Dot\").next_to(dot, UP)\n",
    "        \n",
    "        # Create a trail of dots\n",
    "        trail = VGroup()\n",
    "        \n",
    "        # Updater to follow the dot\n",
    "        label.add_updater(lambda m: m.next_to(dot, UP))\n",
    "        \n",
    "        # Updater to create a trail\n",
    "        def trail_updater(m):\n",
    "            if len(trail) == 0 or np.linalg.norm(trail[-1].get_center() - dot.get_center()) > 0.3:\n",
    "                new_dot = Dot(dot.get_center(), color=dot.get_color(), radius=dot.radius * 0.7)\n",
    "                trail.add(new_dot)\n",
    "            \n",
    "            # Keep only the last 10 dots\n",
    "            if len(trail) > 10:\n",
    "                trail.remove(trail[0])\n",
    "        \n",
    "        self.add(dot, label, trail)\n",
    "        \n",
    "        # Add the trail updater\n",
    "        trail.add_updater(trail_updater)\n",
    "        \n",
    "        # Move the dot in a complex path\n",
    "        self.play(dot.animate.shift(RIGHT * 3), run_time=2)\n",
    "        self.play(dot.animate.shift(UP * 2), run_time=2)\n",
    "        self.play(dot.animate.shift(LEFT * 3), run_time=2)\n",
    "        self.play(dot.animate.shift(DOWN * 2), run_time=2)\n",
    "        \n",
    "        # Remove updaters\n",
    "        label.clear_updaters()\n",
    "        trail.clear_updaters()\n",
    "        \n",
    "        self.wait(2)"
   ]
  },
  {
   "cell_type": "markdown",
   "metadata": {},
   "source": [
    "Let's render this scene:"
   ]
  },
  {
   "cell_type": "code",
   "execution_count": null,
   "metadata": {},
   "outputs": [],
   "source": [
    "%%manim -pql MultipleUpdaters\n",
    "\n",
    "from manim import *\n",
    "\n",
    "class MultipleUpdaters(Scene):\n",
    "    def construct(self):\n",
    "        # Create a dot\n",
    "        dot = Dot(color=YELLOW)\n",
    "        \n",
    "        # Create a label that follows the dot\n",
    "        label = Text(\"Dot\").next_to(dot, UP)\n",
    "        \n",
    "        # Create a trail of dots\n",
    "        trail = VGroup()\n",
    "        \n",
    "        # Updater to follow the dot\n",
    "        label.add_updater(lambda m: m.next_to(dot, UP))\n",
    "        \n",
    "        # Updater to create a trail\n",
    "        def trail_updater(m):\n",
    "            if len(trail) == 0 or np.linalg.norm(trail[-1].get_center() - dot.get_center()) > 0.3:\n",
    "                new_dot = Dot(dot.get_center(), color=dot.get_color(), radius=dot.radius * 0.7)\n",
    "                trail.add(new_dot)\n",
    "            \n",
    "            # Keep only the last 10 dots\n",
    "            if len(trail) > 10:\n",
    "                trail.remove(trail[0])\n",
    "        \n",
    "        self.add(dot, label, trail)\n",
    "        \n",
    "        # Add the trail updater\n",
    "        trail.add_updater(trail_updater)\n",
    "        \n",
    "        # Move the dot in a complex path\n",
    "        self.play(dot.animate.shift(RIGHT * 3), run_time=2)\n",
    "        self.play(dot.animate.shift(UP * 2), run_time=2)\n",
    "        self.play(dot.animate.shift(LEFT * 3), run_time=2)\n",
    "        self.play(dot.animate.shift(DOWN * 2), run_time=2)\n",
    "        \n",
    "        # Remove updaters\n",
    "        label.clear_updaters()\n",
    "        trail.clear_updaters()\n",
    "        \n",
    "        self.wait(2)"
   ]
  },
  {
   "cell_type": "markdown",
   "metadata": {},
   "source": [
    "## Interactive Elements\n",
    "\n",
    "Try modifying the code above to:\n",
    "\n",
    "1. Change the path of the moving objects\n",
    "2. Modify the updater functions to create different effects\n",
    "3. Add more objects with different updater behaviors\n",
    "4. Experiment with different updater removal timing\n",
    "\n",
    "## Coding Exercises\n",
    "\n",
    "### Exercise 1: Create a Clock\n",
    "\n",
    "Create a scene with a clock face and hour/minute hands that move using updaters:"
   ]
  },
  {
   "cell_type": "code",
   "execution_count": null,
   "metadata": {},
   "outputs": [],
   "source": [
    "# Your solution here\n",
    "\n",
    "# Create clock face\n",
    "clock = Circle(radius=2, color=WHITE)\n",
    "\n",
    "# Create hour hand\n",
    "hour_hand = Line(ORIGIN, UP * 1, color=RED)\n",
    "\n",
    "# Create minute hand\n",
    "minute_hand = Line(ORIGIN, UP * 1.5, color=BLUE)\n",
    "\n",
    "# Add updaters for hand rotation\n",
    "# (This would require more complex logic to make them move at proper rates)"
   ]
  },
  {
   "cell_type": "markdown",
   "metadata": {},
   "source": [
    "### Exercise 2: Create a Dynamic Value Tracker\n",
    "\n",
    "Create a scene with a value tracker that updates a displayed number:"
   ]
  },
  {
   "cell_type": "code",
   "execution_count": null,
   "metadata": {},
   "outputs": [],
   "source": [
    "%%manim -pql DynamicValueTracker\n",
    "\n",
    "from manim import *\n",
    "\n",
    "class DynamicValueTracker(Scene):\n",
    "    def construct(self):\n",
    "        # Your code here\n",
    "        pass"
   ]
  },
  {
   "cell_type": "markdown",
   "metadata": {},
   "source": [
    "## Summary\n",
    "\n",
    "In this tutorial, we've learned:\n",
    "\n",
    "- What updaters are and how they work\n",
    "- How to create updaters that modify mobjects based on their state\n",
    "- How to use updaters to create dynamic animations\n",
    "- How to add and remove updaters from mobjects\n",
    "- How to create complex animations using multiple updaters\n",
    "\n",
    "## Further Reading\n",
    "\n",
    "- [Manim Documentation - Updater Reference](https://docs.manim.community/en/stable/reference.html#updaters)\n",
    "- [Manim Community GitHub](https://github.com/ManimCommunity/manim)\n",
    "- Next tutorial: 3D Scenes"
   ]
  }
 ],
 "metadata": {
  "kernelspec": {
   "display_name": "Python 3",
   "language": "python",
   "name": "python3"
  },
  "language_info": {
   "name": "python",
   "version": "3.8.0"
  }
 },
 "nbformat": 4,
 "nbformat_minor": 4
}